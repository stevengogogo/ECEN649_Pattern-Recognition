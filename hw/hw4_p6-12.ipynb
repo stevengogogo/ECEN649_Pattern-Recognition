{
 "cells": [
  {
   "cell_type": "markdown",
   "id": "5feb78ff-3888-4f8e-8e1d-55b6e188970c",
   "metadata": {},
   "source": [
    "## Problem 6.12"
   ]
  },
  {
   "cell_type": "code",
   "execution_count": 371,
   "id": "315daa55-b97c-4e74-95a1-6549ea084bee",
   "metadata": {},
   "outputs": [],
   "source": [
    "import tensorflow as tf\n",
    "import numpy as np\n",
    "import PIL\n",
    "import cv2\n",
    "import os\n",
    "import sklearn\n",
    "import pandas as pd\n",
    "import pickle\n",
    "import platform\n",
    "from tqdm.notebook import tqdm\n",
    "from sklearn import preprocessing\n",
    "from sklearn import svm\n",
    "from sklearn.pipeline import make_pipeline\n",
    "from sklearn.preprocessing import StandardScaler\n",
    "from scipy import stats as st"
   ]
  },
  {
   "cell_type": "markdown",
   "id": "f8d98b1c-ba8e-47eb-b1d9-261a14842eaf",
   "metadata": {},
   "source": [
    "### Computational Environment"
   ]
  },
  {
   "cell_type": "code",
   "execution_count": 96,
   "id": "7cfca9c7-3f56-487b-8030-822c357fad94",
   "metadata": {},
   "outputs": [
    {
     "name": "stdout",
     "output_type": "stream",
     "text": [
      "[PhysicalDevice(name='/physical_device:GPU:0', device_type='GPU')]\n",
      "System: Darwin\n",
      "Node Name: client-10-228-18-202.tamulink.tamu.edu\n",
      "Release: 21.5.0\n",
      "Version: Darwin Kernel Version 21.5.0: Tue Apr 26 21:08:29 PDT 2022; root:xnu-8020.121.3~4/RELEASE_ARM64_T8101\n",
      "Machine: arm64\n",
      "Processor: i386\n"
     ]
    }
   ],
   "source": [
    "physical_devices = tf.config.list_physical_devices('GPU')\n",
    "my_system = platform.uname()\n",
    "print(physical_devices)\n",
    "print(f\"System: {my_system.system}\")\n",
    "print(f\"Node Name: {my_system.node}\")\n",
    "print(f\"Release: {my_system.release}\")\n",
    "print(f\"Version: {my_system.version}\")\n",
    "print(f\"Machine: {my_system.machine}\")\n",
    "print(f\"Processor: {my_system.processor}\")"
   ]
  },
  {
   "cell_type": "markdown",
   "id": "2e0a764a-3d02-4cf3-b4e4-ee0860f51c43",
   "metadata": {},
   "source": [
    "### Helper function"
   ]
  },
  {
   "cell_type": "code",
   "execution_count": 3,
   "id": "649b7f11-df46-468d-92ea-a1c8f294dc1a",
   "metadata": {},
   "outputs": [],
   "source": [
    "def load_image(path, width=484, preprocess_input=tf.keras.applications.vgg16.preprocess_input):\n",
    "    \"\"\"\n",
    "    Load and Preprocessing image\n",
    "    \"\"\"\n",
    "    img = tf.keras.utils.load_img(path)\n",
    "    x = tf.keras.utils.img_to_array(img)\n",
    "    x = x[0:width,:,:]\n",
    "    x = np.expand_dims(x, axis=0)\n",
    "    return tf.keras.applications.vgg16.preprocess_input(x)"
   ]
  },
  {
   "cell_type": "markdown",
   "id": "8b0d6b38-4f4f-4336-957a-20a2fd259007",
   "metadata": {},
   "source": [
    "### Data inspectation"
   ]
  },
  {
   "cell_type": "code",
   "execution_count": 4,
   "id": "8e1edca3-9cf4-4a1c-b1f2-03cba758f301",
   "metadata": {},
   "outputs": [],
   "source": [
    "dpath = os.path.join(\"data\", \"CMU-UHCS_Dataset\")\n",
    "pic_path = os.path.join(dpath, \"images\")\n",
    "df_micro = pd.read_csv( os.path.join(dpath, \"micrograph.csv\"))\n",
    "df_micro = df_micro[[\"path\", \"primary_microconstituent\"]]\n",
    "\n",
    "for i in range(0, len(df_micro)):\n",
    "    img_ph = os.path.join(pic_path,df_micro.iloc[i][0])\n",
    "    assert os.path.exists(img_ph)\n",
    "    df_micro.iloc[i][0] = img_ph\n",
    "\n",
    "CLS_rm = [\"pearlite+widmanstatten\", \"martensite\", \"pearlite+spheroidite\"] #(type, sample size)"
   ]
  },
  {
   "cell_type": "code",
   "execution_count": 5,
   "id": "ca315dad-5c16-4caf-a0a8-05232c0c16a0",
   "metadata": {},
   "outputs": [],
   "source": [
    "for c in CLS_rm:\n",
    "    df_micro.drop(df_micro[df_micro[\"primary_microconstituent\"] == c].index, inplace=True)"
   ]
  },
  {
   "cell_type": "code",
   "execution_count": 6,
   "id": "3ae27cb6-ed67-4d40-800a-409ec64fff42",
   "metadata": {},
   "outputs": [
    {
     "data": {
      "text/plain": [
       "['network', 'pearlite', 'spheroidite', 'spheroidite+widmanstatten']"
      ]
     },
     "execution_count": 6,
     "metadata": {},
     "output_type": "execute_result"
    }
   ],
   "source": [
    "# labels\n",
    "name_lbs = df_micro[\"primary_microconstituent\"].unique()\n",
    "le = preprocessing.LabelEncoder()\n",
    "le.fit(name_lbs)\n",
    "list(le.classes_)"
   ]
  },
  {
   "cell_type": "code",
   "execution_count": 7,
   "id": "4d0c2ed4-0d2f-4df8-a11e-7acc2c8139da",
   "metadata": {},
   "outputs": [
    {
     "data": {
      "text/html": [
       "<div>\n",
       "<style scoped>\n",
       "    .dataframe tbody tr th:only-of-type {\n",
       "        vertical-align: middle;\n",
       "    }\n",
       "\n",
       "    .dataframe tbody tr th {\n",
       "        vertical-align: top;\n",
       "    }\n",
       "\n",
       "    .dataframe thead th {\n",
       "        text-align: right;\n",
       "    }\n",
       "</style>\n",
       "<table border=\"1\" class=\"dataframe\">\n",
       "  <thead>\n",
       "    <tr style=\"text-align: right;\">\n",
       "      <th></th>\n",
       "      <th>path</th>\n",
       "      <th>primary_microconstituent</th>\n",
       "      <th>label</th>\n",
       "    </tr>\n",
       "  </thead>\n",
       "  <tbody>\n",
       "    <tr>\n",
       "      <th>0</th>\n",
       "      <td>data/CMU-UHCS_Dataset/images/micrograph1.tif</td>\n",
       "      <td>pearlite</td>\n",
       "      <td>1</td>\n",
       "    </tr>\n",
       "    <tr>\n",
       "      <th>1</th>\n",
       "      <td>data/CMU-UHCS_Dataset/images/micrograph2.tif</td>\n",
       "      <td>spheroidite</td>\n",
       "      <td>2</td>\n",
       "    </tr>\n",
       "    <tr>\n",
       "      <th>3</th>\n",
       "      <td>data/CMU-UHCS_Dataset/images/micrograph5.tif</td>\n",
       "      <td>pearlite</td>\n",
       "      <td>1</td>\n",
       "    </tr>\n",
       "    <tr>\n",
       "      <th>4</th>\n",
       "      <td>data/CMU-UHCS_Dataset/images/micrograph6.tif</td>\n",
       "      <td>spheroidite</td>\n",
       "      <td>2</td>\n",
       "    </tr>\n",
       "    <tr>\n",
       "      <th>5</th>\n",
       "      <td>data/CMU-UHCS_Dataset/images/micrograph7.tif</td>\n",
       "      <td>spheroidite+widmanstatten</td>\n",
       "      <td>3</td>\n",
       "    </tr>\n",
       "    <tr>\n",
       "      <th>...</th>\n",
       "      <td>...</td>\n",
       "      <td>...</td>\n",
       "      <td>...</td>\n",
       "    </tr>\n",
       "    <tr>\n",
       "      <th>955</th>\n",
       "      <td>data/CMU-UHCS_Dataset/images/micrograph1722.tif</td>\n",
       "      <td>spheroidite</td>\n",
       "      <td>2</td>\n",
       "    </tr>\n",
       "    <tr>\n",
       "      <th>957</th>\n",
       "      <td>data/CMU-UHCS_Dataset/images/micrograph1726.tif</td>\n",
       "      <td>spheroidite+widmanstatten</td>\n",
       "      <td>3</td>\n",
       "    </tr>\n",
       "    <tr>\n",
       "      <th>958</th>\n",
       "      <td>data/CMU-UHCS_Dataset/images/micrograph1730.png</td>\n",
       "      <td>spheroidite</td>\n",
       "      <td>2</td>\n",
       "    </tr>\n",
       "    <tr>\n",
       "      <th>959</th>\n",
       "      <td>data/CMU-UHCS_Dataset/images/micrograph1731.tif</td>\n",
       "      <td>pearlite</td>\n",
       "      <td>1</td>\n",
       "    </tr>\n",
       "    <tr>\n",
       "      <th>960</th>\n",
       "      <td>data/CMU-UHCS_Dataset/images/micrograph1732.tif</td>\n",
       "      <td>pearlite</td>\n",
       "      <td>1</td>\n",
       "    </tr>\n",
       "  </tbody>\n",
       "</table>\n",
       "<p>791 rows × 3 columns</p>\n",
       "</div>"
      ],
      "text/plain": [
       "                                                path  \\\n",
       "0       data/CMU-UHCS_Dataset/images/micrograph1.tif   \n",
       "1       data/CMU-UHCS_Dataset/images/micrograph2.tif   \n",
       "3       data/CMU-UHCS_Dataset/images/micrograph5.tif   \n",
       "4       data/CMU-UHCS_Dataset/images/micrograph6.tif   \n",
       "5       data/CMU-UHCS_Dataset/images/micrograph7.tif   \n",
       "..                                               ...   \n",
       "955  data/CMU-UHCS_Dataset/images/micrograph1722.tif   \n",
       "957  data/CMU-UHCS_Dataset/images/micrograph1726.tif   \n",
       "958  data/CMU-UHCS_Dataset/images/micrograph1730.png   \n",
       "959  data/CMU-UHCS_Dataset/images/micrograph1731.tif   \n",
       "960  data/CMU-UHCS_Dataset/images/micrograph1732.tif   \n",
       "\n",
       "      primary_microconstituent  label  \n",
       "0                     pearlite      1  \n",
       "1                  spheroidite      2  \n",
       "3                     pearlite      1  \n",
       "4                  spheroidite      2  \n",
       "5    spheroidite+widmanstatten      3  \n",
       "..                         ...    ...  \n",
       "955                spheroidite      2  \n",
       "957  spheroidite+widmanstatten      3  \n",
       "958                spheroidite      2  \n",
       "959                   pearlite      1  \n",
       "960                   pearlite      1  \n",
       "\n",
       "[791 rows x 3 columns]"
      ]
     },
     "execution_count": 7,
     "metadata": {},
     "output_type": "execute_result"
    }
   ],
   "source": [
    "dlabel = le.transform(df_micro[\"primary_microconstituent\"])\n",
    "df_micro.insert(2, \"label\", dlabel)\n",
    "df_micro"
   ]
  },
  {
   "cell_type": "markdown",
   "id": "29623ffc-3d4c-4d45-a0ad-7e04749d8907",
   "metadata": {},
   "source": [
    "### Data Processing"
   ]
  },
  {
   "cell_type": "code",
   "execution_count": 8,
   "id": "b20239b1-9f89-4321-aeea-1bbcbff23f32",
   "metadata": {},
   "outputs": [],
   "source": [
    "# Train-test split\n",
    "df_test = df_micro.copy()\n",
    "df_train = pd.DataFrame(columns = df_micro.keys())\n",
    "\n",
    "split_info = [(\"spheroidite\", 100),\\\n",
    "              (\"network\", 100),\\\n",
    "              (\"pearlite\", 100),\\\n",
    "              (\"spheroidite+widmanstatten\", 60)] #(type, sample size)\n",
    "\n",
    "\n",
    "\n",
    "for ln in split_info:\n",
    "    label, n = ln\n",
    "    id_train = df_micro[df_micro[\"primary_microconstituent\"] == label][0:n].index\n",
    "    df_test.drop(id_train, axis=0, inplace=True)\n",
    "    df_train = pd.concat([df_train, df_micro.loc[id_train]])"
   ]
  },
  {
   "cell_type": "code",
   "execution_count": 9,
   "id": "2adc8830-9af8-40c3-ad71-480c0cf60045",
   "metadata": {},
   "outputs": [
    {
     "data": {
      "text/html": [
       "<div>\n",
       "<style scoped>\n",
       "    .dataframe tbody tr th:only-of-type {\n",
       "        vertical-align: middle;\n",
       "    }\n",
       "\n",
       "    .dataframe tbody tr th {\n",
       "        vertical-align: top;\n",
       "    }\n",
       "\n",
       "    .dataframe thead th {\n",
       "        text-align: right;\n",
       "    }\n",
       "</style>\n",
       "<table border=\"1\" class=\"dataframe\">\n",
       "  <thead>\n",
       "    <tr style=\"text-align: right;\">\n",
       "      <th></th>\n",
       "      <th>path</th>\n",
       "      <th>primary_microconstituent</th>\n",
       "      <th>label</th>\n",
       "    </tr>\n",
       "  </thead>\n",
       "  <tbody>\n",
       "    <tr>\n",
       "      <th>1</th>\n",
       "      <td>data/CMU-UHCS_Dataset/images/micrograph2.tif</td>\n",
       "      <td>spheroidite</td>\n",
       "      <td>2</td>\n",
       "    </tr>\n",
       "    <tr>\n",
       "      <th>4</th>\n",
       "      <td>data/CMU-UHCS_Dataset/images/micrograph6.tif</td>\n",
       "      <td>spheroidite</td>\n",
       "      <td>2</td>\n",
       "    </tr>\n",
       "    <tr>\n",
       "      <th>8</th>\n",
       "      <td>data/CMU-UHCS_Dataset/images/micrograph10.png</td>\n",
       "      <td>spheroidite</td>\n",
       "      <td>2</td>\n",
       "    </tr>\n",
       "    <tr>\n",
       "      <th>9</th>\n",
       "      <td>data/CMU-UHCS_Dataset/images/micrograph11.tif</td>\n",
       "      <td>spheroidite</td>\n",
       "      <td>2</td>\n",
       "    </tr>\n",
       "    <tr>\n",
       "      <th>20</th>\n",
       "      <td>data/CMU-UHCS_Dataset/images/micrograph29.tif</td>\n",
       "      <td>spheroidite</td>\n",
       "      <td>2</td>\n",
       "    </tr>\n",
       "    <tr>\n",
       "      <th>...</th>\n",
       "      <td>...</td>\n",
       "      <td>...</td>\n",
       "      <td>...</td>\n",
       "    </tr>\n",
       "    <tr>\n",
       "      <th>596</th>\n",
       "      <td>data/CMU-UHCS_Dataset/images/micrograph1093.tif</td>\n",
       "      <td>spheroidite+widmanstatten</td>\n",
       "      <td>3</td>\n",
       "    </tr>\n",
       "    <tr>\n",
       "      <th>618</th>\n",
       "      <td>data/CMU-UHCS_Dataset/images/micrograph1129.tif</td>\n",
       "      <td>spheroidite+widmanstatten</td>\n",
       "      <td>3</td>\n",
       "    </tr>\n",
       "    <tr>\n",
       "      <th>631</th>\n",
       "      <td>data/CMU-UHCS_Dataset/images/micrograph1156.tif</td>\n",
       "      <td>spheroidite+widmanstatten</td>\n",
       "      <td>3</td>\n",
       "    </tr>\n",
       "    <tr>\n",
       "      <th>672</th>\n",
       "      <td>data/CMU-UHCS_Dataset/images/micrograph1218.tif</td>\n",
       "      <td>spheroidite+widmanstatten</td>\n",
       "      <td>3</td>\n",
       "    </tr>\n",
       "    <tr>\n",
       "      <th>673</th>\n",
       "      <td>data/CMU-UHCS_Dataset/images/micrograph1219.tif</td>\n",
       "      <td>spheroidite+widmanstatten</td>\n",
       "      <td>3</td>\n",
       "    </tr>\n",
       "  </tbody>\n",
       "</table>\n",
       "<p>360 rows × 3 columns</p>\n",
       "</div>"
      ],
      "text/plain": [
       "                                                path  \\\n",
       "1       data/CMU-UHCS_Dataset/images/micrograph2.tif   \n",
       "4       data/CMU-UHCS_Dataset/images/micrograph6.tif   \n",
       "8      data/CMU-UHCS_Dataset/images/micrograph10.png   \n",
       "9      data/CMU-UHCS_Dataset/images/micrograph11.tif   \n",
       "20     data/CMU-UHCS_Dataset/images/micrograph29.tif   \n",
       "..                                               ...   \n",
       "596  data/CMU-UHCS_Dataset/images/micrograph1093.tif   \n",
       "618  data/CMU-UHCS_Dataset/images/micrograph1129.tif   \n",
       "631  data/CMU-UHCS_Dataset/images/micrograph1156.tif   \n",
       "672  data/CMU-UHCS_Dataset/images/micrograph1218.tif   \n",
       "673  data/CMU-UHCS_Dataset/images/micrograph1219.tif   \n",
       "\n",
       "      primary_microconstituent label  \n",
       "1                  spheroidite     2  \n",
       "4                  spheroidite     2  \n",
       "8                  spheroidite     2  \n",
       "9                  spheroidite     2  \n",
       "20                 spheroidite     2  \n",
       "..                         ...   ...  \n",
       "596  spheroidite+widmanstatten     3  \n",
       "618  spheroidite+widmanstatten     3  \n",
       "631  spheroidite+widmanstatten     3  \n",
       "672  spheroidite+widmanstatten     3  \n",
       "673  spheroidite+widmanstatten     3  \n",
       "\n",
       "[360 rows x 3 columns]"
      ]
     },
     "execution_count": 9,
     "metadata": {},
     "output_type": "execute_result"
    }
   ],
   "source": [
    "df_train"
   ]
  },
  {
   "cell_type": "code",
   "execution_count": 10,
   "id": "4e039d84-aea2-4ef9-bda9-34486308768e",
   "metadata": {},
   "outputs": [
    {
     "data": {
      "text/html": [
       "<div>\n",
       "<style scoped>\n",
       "    .dataframe tbody tr th:only-of-type {\n",
       "        vertical-align: middle;\n",
       "    }\n",
       "\n",
       "    .dataframe tbody tr th {\n",
       "        vertical-align: top;\n",
       "    }\n",
       "\n",
       "    .dataframe thead th {\n",
       "        text-align: right;\n",
       "    }\n",
       "</style>\n",
       "<table border=\"1\" class=\"dataframe\">\n",
       "  <thead>\n",
       "    <tr style=\"text-align: right;\">\n",
       "      <th></th>\n",
       "      <th>path</th>\n",
       "      <th>primary_microconstituent</th>\n",
       "      <th>label</th>\n",
       "    </tr>\n",
       "  </thead>\n",
       "  <tbody>\n",
       "    <tr>\n",
       "      <th>237</th>\n",
       "      <td>data/CMU-UHCS_Dataset/images/micrograph436.png</td>\n",
       "      <td>spheroidite</td>\n",
       "      <td>2</td>\n",
       "    </tr>\n",
       "    <tr>\n",
       "      <th>238</th>\n",
       "      <td>data/CMU-UHCS_Dataset/images/micrograph437.tif</td>\n",
       "      <td>spheroidite</td>\n",
       "      <td>2</td>\n",
       "    </tr>\n",
       "    <tr>\n",
       "      <th>239</th>\n",
       "      <td>data/CMU-UHCS_Dataset/images/micrograph440.png</td>\n",
       "      <td>spheroidite</td>\n",
       "      <td>2</td>\n",
       "    </tr>\n",
       "    <tr>\n",
       "      <th>241</th>\n",
       "      <td>data/CMU-UHCS_Dataset/images/micrograph442.tif</td>\n",
       "      <td>spheroidite</td>\n",
       "      <td>2</td>\n",
       "    </tr>\n",
       "    <tr>\n",
       "      <th>242</th>\n",
       "      <td>data/CMU-UHCS_Dataset/images/micrograph443.tif</td>\n",
       "      <td>spheroidite</td>\n",
       "      <td>2</td>\n",
       "    </tr>\n",
       "    <tr>\n",
       "      <th>...</th>\n",
       "      <td>...</td>\n",
       "      <td>...</td>\n",
       "      <td>...</td>\n",
       "    </tr>\n",
       "    <tr>\n",
       "      <th>955</th>\n",
       "      <td>data/CMU-UHCS_Dataset/images/micrograph1722.tif</td>\n",
       "      <td>spheroidite</td>\n",
       "      <td>2</td>\n",
       "    </tr>\n",
       "    <tr>\n",
       "      <th>957</th>\n",
       "      <td>data/CMU-UHCS_Dataset/images/micrograph1726.tif</td>\n",
       "      <td>spheroidite+widmanstatten</td>\n",
       "      <td>3</td>\n",
       "    </tr>\n",
       "    <tr>\n",
       "      <th>958</th>\n",
       "      <td>data/CMU-UHCS_Dataset/images/micrograph1730.png</td>\n",
       "      <td>spheroidite</td>\n",
       "      <td>2</td>\n",
       "    </tr>\n",
       "    <tr>\n",
       "      <th>959</th>\n",
       "      <td>data/CMU-UHCS_Dataset/images/micrograph1731.tif</td>\n",
       "      <td>pearlite</td>\n",
       "      <td>1</td>\n",
       "    </tr>\n",
       "    <tr>\n",
       "      <th>960</th>\n",
       "      <td>data/CMU-UHCS_Dataset/images/micrograph1732.tif</td>\n",
       "      <td>pearlite</td>\n",
       "      <td>1</td>\n",
       "    </tr>\n",
       "  </tbody>\n",
       "</table>\n",
       "<p>431 rows × 3 columns</p>\n",
       "</div>"
      ],
      "text/plain": [
       "                                                path  \\\n",
       "237   data/CMU-UHCS_Dataset/images/micrograph436.png   \n",
       "238   data/CMU-UHCS_Dataset/images/micrograph437.tif   \n",
       "239   data/CMU-UHCS_Dataset/images/micrograph440.png   \n",
       "241   data/CMU-UHCS_Dataset/images/micrograph442.tif   \n",
       "242   data/CMU-UHCS_Dataset/images/micrograph443.tif   \n",
       "..                                               ...   \n",
       "955  data/CMU-UHCS_Dataset/images/micrograph1722.tif   \n",
       "957  data/CMU-UHCS_Dataset/images/micrograph1726.tif   \n",
       "958  data/CMU-UHCS_Dataset/images/micrograph1730.png   \n",
       "959  data/CMU-UHCS_Dataset/images/micrograph1731.tif   \n",
       "960  data/CMU-UHCS_Dataset/images/micrograph1732.tif   \n",
       "\n",
       "      primary_microconstituent  label  \n",
       "237                spheroidite      2  \n",
       "238                spheroidite      2  \n",
       "239                spheroidite      2  \n",
       "241                spheroidite      2  \n",
       "242                spheroidite      2  \n",
       "..                         ...    ...  \n",
       "955                spheroidite      2  \n",
       "957  spheroidite+widmanstatten      3  \n",
       "958                spheroidite      2  \n",
       "959                   pearlite      1  \n",
       "960                   pearlite      1  \n",
       "\n",
       "[431 rows x 3 columns]"
      ]
     },
     "execution_count": 10,
     "metadata": {},
     "output_type": "execute_result"
    }
   ],
   "source": [
    "df_test"
   ]
  },
  {
   "cell_type": "markdown",
   "id": "f724aac0-79eb-4a6a-a69c-91add6320e60",
   "metadata": {},
   "source": [
    "### Feature Extraction"
   ]
  },
  {
   "cell_type": "code",
   "execution_count": 11,
   "id": "f67bf805-ac41-4da8-8d56-47764559f462",
   "metadata": {},
   "outputs": [
    {
     "name": "stdout",
     "output_type": "stream",
     "text": [
      "Model: \"vgg16\"\n",
      "_________________________________________________________________\n",
      " Layer (type)                Output Shape              Param #   \n",
      "=================================================================\n",
      " input_1 (InputLayer)        [(None, None, None, 3)]   0         \n",
      "                                                                 \n",
      " block1_conv1 (Conv2D)       (None, None, None, 64)    1792      \n",
      "                                                                 \n",
      " block1_conv2 (Conv2D)       (None, None, None, 64)    36928     \n",
      "                                                                 \n",
      " block1_pool (MaxPooling2D)  (None, None, None, 64)    0         \n",
      "                                                                 \n",
      " block2_conv1 (Conv2D)       (None, None, None, 128)   73856     \n",
      "                                                                 \n",
      " block2_conv2 (Conv2D)       (None, None, None, 128)   147584    \n",
      "                                                                 \n",
      " block2_pool (MaxPooling2D)  (None, None, None, 128)   0         \n",
      "                                                                 \n",
      " block3_conv1 (Conv2D)       (None, None, None, 256)   295168    \n",
      "                                                                 \n",
      " block3_conv2 (Conv2D)       (None, None, None, 256)   590080    \n",
      "                                                                 \n",
      " block3_conv3 (Conv2D)       (None, None, None, 256)   590080    \n",
      "                                                                 \n",
      " block3_pool (MaxPooling2D)  (None, None, None, 256)   0         \n",
      "                                                                 \n",
      " block4_conv1 (Conv2D)       (None, None, None, 512)   1180160   \n",
      "                                                                 \n",
      " block4_conv2 (Conv2D)       (None, None, None, 512)   2359808   \n",
      "                                                                 \n",
      " block4_conv3 (Conv2D)       (None, None, None, 512)   2359808   \n",
      "                                                                 \n",
      " block4_pool (MaxPooling2D)  (None, None, None, 512)   0         \n",
      "                                                                 \n",
      " block5_conv1 (Conv2D)       (None, None, None, 512)   2359808   \n",
      "                                                                 \n",
      " block5_conv2 (Conv2D)       (None, None, None, 512)   2359808   \n",
      "                                                                 \n",
      " block5_conv3 (Conv2D)       (None, None, None, 512)   2359808   \n",
      "                                                                 \n",
      " block5_pool (MaxPooling2D)  (None, None, None, 512)   0         \n",
      "                                                                 \n",
      "=================================================================\n",
      "Total params: 14,714,688\n",
      "Trainable params: 14,714,688\n",
      "Non-trainable params: 0\n",
      "_________________________________________________________________\n"
     ]
    }
   ],
   "source": [
    "# VGG16\n",
    "\n",
    "base_model = tf.keras.applications.vgg16.VGG16(\n",
    "    include_top=False,\n",
    "    weights='imagenet',\n",
    "    input_tensor=None,\n",
    "    input_shape=None,\n",
    "    pooling=None,\n",
    "    classes=1000,\n",
    "    classifier_activation='softmax'\n",
    ")\n",
    "\n",
    "base_model.summary()"
   ]
  },
  {
   "cell_type": "markdown",
   "id": "ad97f25f-844c-48c5-b581-c962fe722be7",
   "metadata": {},
   "source": [
    "Use five layers"
   ]
  },
  {
   "cell_type": "code",
   "execution_count": 12,
   "id": "29d52c02-08ac-4551-9997-315133304b5c",
   "metadata": {},
   "outputs": [
    {
     "data": {
      "text/plain": [
       "['block1_pool', 'block2_pool', 'block3_pool', 'block4_pool', 'block5_pool']"
      ]
     },
     "execution_count": 12,
     "metadata": {},
     "output_type": "execute_result"
    }
   ],
   "source": [
    "out_layer_ns = [\"block{}_pool\".format(i) for i in range(1,6)]\n",
    "out_layer_ns"
   ]
  },
  {
   "cell_type": "code",
   "execution_count": 13,
   "id": "6e5204dd-bc48-44cc-8d0a-2d6c44be736d",
   "metadata": {},
   "outputs": [
    {
     "data": {
      "text/plain": [
       "{'block1_pool': <keras.engine.functional.Functional at 0x29f411e20>,\n",
       " 'block2_pool': <keras.engine.functional.Functional at 0x2af72ecd0>,\n",
       " 'block3_pool': <keras.engine.functional.Functional at 0x2b06b63d0>,\n",
       " 'block4_pool': <keras.engine.functional.Functional at 0x2b06be5b0>,\n",
       " 'block5_pool': <keras.engine.functional.Functional at 0x2b06bedf0>}"
      ]
     },
     "execution_count": 13,
     "metadata": {},
     "output_type": "execute_result"
    }
   ],
   "source": [
    "# Construct 5 models for feature extraction\n",
    "extmodel = dict(zip(out_layer_ns, [tf.keras.Model(\n",
    "    inputs= base_model.input,\n",
    "    outputs=base_model.get_layer(bk_name).output\n",
    ") for bk_name in out_layer_ns]))\n",
    "\n",
    "extmodel"
   ]
  },
  {
   "cell_type": "code",
   "execution_count": 14,
   "id": "9c3b31a8-813c-4614-8c13-0068e62a1e9c",
   "metadata": {},
   "outputs": [
    {
     "data": {
      "text/plain": [
       "[64, 128, 256, 512, 512]"
      ]
     },
     "execution_count": 14,
     "metadata": {},
     "output_type": "execute_result"
    }
   ],
   "source": [
    "# Display output dimensions\n",
    "out_shapes = [extmodel[m].output_shape[-1] for m in extmodel.keys()]\n",
    "out_shapes"
   ]
  },
  {
   "cell_type": "code",
   "execution_count": 67,
   "id": "d3aa7357-7d7e-4448-b3e9-a3fd26de16c4",
   "metadata": {},
   "outputs": [
    {
     "data": {
      "text/plain": [
       "{'block1_pool': array([[0., 0., 0., ..., 0., 0., 0.],\n",
       "        [0., 0., 0., ..., 0., 0., 0.],\n",
       "        [0., 0., 0., ..., 0., 0., 0.],\n",
       "        ...,\n",
       "        [0., 0., 0., ..., 0., 0., 0.],\n",
       "        [0., 0., 0., ..., 0., 0., 0.],\n",
       "        [0., 0., 0., ..., 0., 0., 0.]]),\n",
       " 'block2_pool': array([[0., 0., 0., ..., 0., 0., 0.],\n",
       "        [0., 0., 0., ..., 0., 0., 0.],\n",
       "        [0., 0., 0., ..., 0., 0., 0.],\n",
       "        ...,\n",
       "        [0., 0., 0., ..., 0., 0., 0.],\n",
       "        [0., 0., 0., ..., 0., 0., 0.],\n",
       "        [0., 0., 0., ..., 0., 0., 0.]]),\n",
       " 'block3_pool': array([[0., 0., 0., ..., 0., 0., 0.],\n",
       "        [0., 0., 0., ..., 0., 0., 0.],\n",
       "        [0., 0., 0., ..., 0., 0., 0.],\n",
       "        ...,\n",
       "        [0., 0., 0., ..., 0., 0., 0.],\n",
       "        [0., 0., 0., ..., 0., 0., 0.],\n",
       "        [0., 0., 0., ..., 0., 0., 0.]]),\n",
       " 'block4_pool': array([[0., 0., 0., ..., 0., 0., 0.],\n",
       "        [0., 0., 0., ..., 0., 0., 0.],\n",
       "        [0., 0., 0., ..., 0., 0., 0.],\n",
       "        ...,\n",
       "        [0., 0., 0., ..., 0., 0., 0.],\n",
       "        [0., 0., 0., ..., 0., 0., 0.],\n",
       "        [0., 0., 0., ..., 0., 0., 0.]]),\n",
       " 'block5_pool': array([[0., 0., 0., ..., 0., 0., 0.],\n",
       "        [0., 0., 0., ..., 0., 0., 0.],\n",
       "        [0., 0., 0., ..., 0., 0., 0.],\n",
       "        ...,\n",
       "        [0., 0., 0., ..., 0., 0., 0.],\n",
       "        [0., 0., 0., ..., 0., 0., 0.],\n",
       "        [0., 0., 0., ..., 0., 0., 0.]])}"
      ]
     },
     "execution_count": 67,
     "metadata": {},
     "output_type": "execute_result"
    }
   ],
   "source": [
    "# Initiate feature maps for testing and training\n",
    "fs_train = [np.zeros((df_train.shape[0], n_f)) for n_f in out_shapes]\n",
    "fs_test = [np.zeros((df_test.shape[0], n_f)) for n_f in out_shapes]\n",
    "\n",
    "features_train = dict(zip(out_layer_ns, fs_train))\n",
    "features_test = dict(zip(out_layer_ns, fs_test))\n",
    "\n",
    "features_train"
   ]
  },
  {
   "cell_type": "code",
   "execution_count": 68,
   "id": "71d50cca-be63-4ae4-9a2e-ecc4b46841be",
   "metadata": {},
   "outputs": [
    {
     "data": {
      "application/json": {
       "ascii": false,
       "bar_format": null,
       "colour": null,
       "elapsed": 0.022188186645507812,
       "initial": 0,
       "n": 0,
       "ncols": null,
       "nrows": null,
       "postfix": null,
       "prefix": "",
       "rate": null,
       "total": 5,
       "unit": "it",
       "unit_divisor": 1000,
       "unit_scale": false
      },
      "application/vnd.jupyter.widget-view+json": {
       "model_id": "ef20fcb9d1664f83822f95e355f2a7af",
       "version_major": 2,
       "version_minor": 0
      },
      "text/plain": [
       "  0%|          | 0/5 [00:00<?, ?it/s]"
      ]
     },
     "metadata": {},
     "output_type": "display_data"
    },
    {
     "data": {
      "application/json": {
       "ascii": false,
       "bar_format": null,
       "colour": null,
       "elapsed": 0.013894081115722656,
       "initial": 0,
       "n": 0,
       "ncols": null,
       "nrows": null,
       "postfix": null,
       "prefix": "",
       "rate": null,
       "total": null,
       "unit": "it",
       "unit_divisor": 1000,
       "unit_scale": false
      },
      "application/vnd.jupyter.widget-view+json": {
       "model_id": "511f49d8dae441f0927119c3e7c8d0e4",
       "version_major": 2,
       "version_minor": 0
      },
      "text/plain": [
       "0it [00:00, ?it/s]"
      ]
     },
     "metadata": {},
     "output_type": "display_data"
    },
    {
     "data": {
      "application/json": {
       "ascii": false,
       "bar_format": null,
       "colour": null,
       "elapsed": 0.007527828216552734,
       "initial": 0,
       "n": 0,
       "ncols": null,
       "nrows": null,
       "postfix": null,
       "prefix": "",
       "rate": null,
       "total": null,
       "unit": "it",
       "unit_divisor": 1000,
       "unit_scale": false
      },
      "application/vnd.jupyter.widget-view+json": {
       "model_id": "8e26ae94448947a98197e543f0789fb2",
       "version_major": 2,
       "version_minor": 0
      },
      "text/plain": [
       "0it [00:00, ?it/s]"
      ]
     },
     "metadata": {},
     "output_type": "display_data"
    },
    {
     "data": {
      "application/json": {
       "ascii": false,
       "bar_format": null,
       "colour": null,
       "elapsed": 0.007308006286621094,
       "initial": 0,
       "n": 0,
       "ncols": null,
       "nrows": null,
       "postfix": null,
       "prefix": "",
       "rate": null,
       "total": null,
       "unit": "it",
       "unit_divisor": 1000,
       "unit_scale": false
      },
      "application/vnd.jupyter.widget-view+json": {
       "model_id": "e8374d92c158478ea4ed07f7d778bf7a",
       "version_major": 2,
       "version_minor": 0
      },
      "text/plain": [
       "0it [00:00, ?it/s]"
      ]
     },
     "metadata": {},
     "output_type": "display_data"
    },
    {
     "data": {
      "application/json": {
       "ascii": false,
       "bar_format": null,
       "colour": null,
       "elapsed": 0.008865118026733398,
       "initial": 0,
       "n": 0,
       "ncols": null,
       "nrows": null,
       "postfix": null,
       "prefix": "",
       "rate": null,
       "total": null,
       "unit": "it",
       "unit_divisor": 1000,
       "unit_scale": false
      },
      "application/vnd.jupyter.widget-view+json": {
       "model_id": "6852065003f649a68fd8878cf8c115df",
       "version_major": 2,
       "version_minor": 0
      },
      "text/plain": [
       "0it [00:00, ?it/s]"
      ]
     },
     "metadata": {},
     "output_type": "display_data"
    },
    {
     "data": {
      "application/json": {
       "ascii": false,
       "bar_format": null,
       "colour": null,
       "elapsed": 0.008901119232177734,
       "initial": 0,
       "n": 0,
       "ncols": null,
       "nrows": null,
       "postfix": null,
       "prefix": "",
       "rate": null,
       "total": null,
       "unit": "it",
       "unit_divisor": 1000,
       "unit_scale": false
      },
      "application/vnd.jupyter.widget-view+json": {
       "model_id": "d4c0ef1e6e0c4bbba3c43dfbf01c332c",
       "version_major": 2,
       "version_minor": 0
      },
      "text/plain": [
       "0it [00:00, ?it/s]"
      ]
     },
     "metadata": {},
     "output_type": "display_data"
    },
    {
     "data": {
      "application/json": {
       "ascii": false,
       "bar_format": null,
       "colour": null,
       "elapsed": 0.010212182998657227,
       "initial": 0,
       "n": 0,
       "ncols": null,
       "nrows": null,
       "postfix": null,
       "prefix": "",
       "rate": null,
       "total": null,
       "unit": "it",
       "unit_divisor": 1000,
       "unit_scale": false
      },
      "application/vnd.jupyter.widget-view+json": {
       "model_id": "98e7050f0931421f9f937a4418d6c9f6",
       "version_major": 2,
       "version_minor": 0
      },
      "text/plain": [
       "0it [00:00, ?it/s]"
      ]
     },
     "metadata": {},
     "output_type": "display_data"
    },
    {
     "data": {
      "application/json": {
       "ascii": false,
       "bar_format": null,
       "colour": null,
       "elapsed": 0.009882926940917969,
       "initial": 0,
       "n": 0,
       "ncols": null,
       "nrows": null,
       "postfix": null,
       "prefix": "",
       "rate": null,
       "total": null,
       "unit": "it",
       "unit_divisor": 1000,
       "unit_scale": false
      },
      "application/vnd.jupyter.widget-view+json": {
       "model_id": "5428dcb5046b4f048c4b2ff0f57e96f7",
       "version_major": 2,
       "version_minor": 0
      },
      "text/plain": [
       "0it [00:00, ?it/s]"
      ]
     },
     "metadata": {},
     "output_type": "display_data"
    },
    {
     "data": {
      "application/json": {
       "ascii": false,
       "bar_format": null,
       "colour": null,
       "elapsed": 0.014018774032592773,
       "initial": 0,
       "n": 0,
       "ncols": null,
       "nrows": null,
       "postfix": null,
       "prefix": "",
       "rate": null,
       "total": null,
       "unit": "it",
       "unit_divisor": 1000,
       "unit_scale": false
      },
      "application/vnd.jupyter.widget-view+json": {
       "model_id": "e4cfa8af0aac4af28d7ecaed03eca273",
       "version_major": 2,
       "version_minor": 0
      },
      "text/plain": [
       "0it [00:00, ?it/s]"
      ]
     },
     "metadata": {},
     "output_type": "display_data"
    },
    {
     "data": {
      "application/json": {
       "ascii": false,
       "bar_format": null,
       "colour": null,
       "elapsed": 0.012762069702148438,
       "initial": 0,
       "n": 0,
       "ncols": null,
       "nrows": null,
       "postfix": null,
       "prefix": "",
       "rate": null,
       "total": null,
       "unit": "it",
       "unit_divisor": 1000,
       "unit_scale": false
      },
      "application/vnd.jupyter.widget-view+json": {
       "model_id": "17ad2516a46f43f7af5ad5cf8bc2b09e",
       "version_major": 2,
       "version_minor": 0
      },
      "text/plain": [
       "0it [00:00, ?it/s]"
      ]
     },
     "metadata": {},
     "output_type": "display_data"
    },
    {
     "data": {
      "application/json": {
       "ascii": false,
       "bar_format": null,
       "colour": null,
       "elapsed": 0.014713048934936523,
       "initial": 0,
       "n": 0,
       "ncols": null,
       "nrows": null,
       "postfix": null,
       "prefix": "",
       "rate": null,
       "total": null,
       "unit": "it",
       "unit_divisor": 1000,
       "unit_scale": false
      },
      "application/vnd.jupyter.widget-view+json": {
       "model_id": "0b1666bfbf904e20861d9314b1d43d49",
       "version_major": 2,
       "version_minor": 0
      },
      "text/plain": [
       "0it [00:00, ?it/s]"
      ]
     },
     "metadata": {},
     "output_type": "display_data"
    }
   ],
   "source": [
    "# Feature extraction with VGG16\n",
    "for m in tqdm(extmodel.keys()):\n",
    "    for i, df in enumerate([df_train, df_test]):\n",
    "        for j, ph in tqdm(enumerate(df[\"path\"])):\n",
    "            x = load_image(ph)\n",
    "            xb = extmodel[m].predict(x, verbose = 0) # silence output\n",
    "            F = np.mean(xb,axis=(0,1,2))\n",
    "            # Save features\n",
    "            if i ==0:\n",
    "                features_train[m][j, :] = F\n",
    "            else:\n",
    "                features_test[m][j, :] = F\n",
    "            \n",
    "            "
   ]
  },
  {
   "cell_type": "code",
   "execution_count": 76,
   "id": "8a35b148-19e7-4664-928e-8595f8c7552b",
   "metadata": {},
   "outputs": [],
   "source": [
    "# save extracted features\n",
    "paths =  dict(zip([\"train\", \"test\"],\\\n",
    "        [os.path.join(dpath, \"feature_{}.pkl\".format(n))\\\n",
    "         for n in [\"train\", \"test\"]]))"
   ]
  },
  {
   "cell_type": "code",
   "execution_count": 77,
   "id": "235d02c4-9f90-4fa7-8c2a-84072a1477f3",
   "metadata": {},
   "outputs": [],
   "source": [
    "## Create new files\n",
    "f_train = open(paths[\"train\"], \"wb\")\n",
    "f_test = open(paths[\"test\"], \"wb\")\n",
    "## Write\n",
    "pickle.dump(features_train, f_train)\n",
    "pickle.dump(features_test, f_test)\n",
    "## Close files\n",
    "f_train.close()\n",
    "f_test.close()"
   ]
  },
  {
   "cell_type": "markdown",
   "id": "2f6087f3-1c24-4602-8d3e-c6fdcabd8bd5",
   "metadata": {},
   "source": [
    "### SVM"
   ]
  },
  {
   "cell_type": "code",
   "execution_count": 131,
   "id": "5cc07fd1-7334-4974-b755-bee0a9ef3393",
   "metadata": {},
   "outputs": [],
   "source": [
    "# load data\n",
    "ftn = open(paths[\"train\"], \"rb\")\n",
    "ftt = open(paths[\"test\"], \"rb\")\n",
    "featn = pickle.load(ftn) # train feature\n",
    "featt = pickle.load(ftt) # test feature\n",
    "ftn.close()\n",
    "ftt.close()\n",
    "\n",
    "# label\n",
    "ltrain = df_train[[\"primary_microconstituent\", \"label\"]].reset_index()\n",
    "ltest = df_test[[\"primary_microconstituent\", \"label\"]].reset_index()"
   ]
  },
  {
   "cell_type": "code",
   "execution_count": 132,
   "id": "04379861-3ea4-4533-9f21-5ec1e47dbb8f",
   "metadata": {},
   "outputs": [
    {
     "data": {
      "text/html": [
       "<div>\n",
       "<style scoped>\n",
       "    .dataframe tbody tr th:only-of-type {\n",
       "        vertical-align: middle;\n",
       "    }\n",
       "\n",
       "    .dataframe tbody tr th {\n",
       "        vertical-align: top;\n",
       "    }\n",
       "\n",
       "    .dataframe thead th {\n",
       "        text-align: right;\n",
       "    }\n",
       "</style>\n",
       "<table border=\"1\" class=\"dataframe\">\n",
       "  <thead>\n",
       "    <tr style=\"text-align: right;\">\n",
       "      <th></th>\n",
       "      <th>index</th>\n",
       "      <th>primary_microconstituent</th>\n",
       "      <th>label</th>\n",
       "    </tr>\n",
       "  </thead>\n",
       "  <tbody>\n",
       "    <tr>\n",
       "      <th>0</th>\n",
       "      <td>1</td>\n",
       "      <td>spheroidite</td>\n",
       "      <td>2</td>\n",
       "    </tr>\n",
       "    <tr>\n",
       "      <th>1</th>\n",
       "      <td>4</td>\n",
       "      <td>spheroidite</td>\n",
       "      <td>2</td>\n",
       "    </tr>\n",
       "    <tr>\n",
       "      <th>2</th>\n",
       "      <td>8</td>\n",
       "      <td>spheroidite</td>\n",
       "      <td>2</td>\n",
       "    </tr>\n",
       "    <tr>\n",
       "      <th>3</th>\n",
       "      <td>9</td>\n",
       "      <td>spheroidite</td>\n",
       "      <td>2</td>\n",
       "    </tr>\n",
       "    <tr>\n",
       "      <th>4</th>\n",
       "      <td>20</td>\n",
       "      <td>spheroidite</td>\n",
       "      <td>2</td>\n",
       "    </tr>\n",
       "    <tr>\n",
       "      <th>...</th>\n",
       "      <td>...</td>\n",
       "      <td>...</td>\n",
       "      <td>...</td>\n",
       "    </tr>\n",
       "    <tr>\n",
       "      <th>355</th>\n",
       "      <td>596</td>\n",
       "      <td>spheroidite+widmanstatten</td>\n",
       "      <td>3</td>\n",
       "    </tr>\n",
       "    <tr>\n",
       "      <th>356</th>\n",
       "      <td>618</td>\n",
       "      <td>spheroidite+widmanstatten</td>\n",
       "      <td>3</td>\n",
       "    </tr>\n",
       "    <tr>\n",
       "      <th>357</th>\n",
       "      <td>631</td>\n",
       "      <td>spheroidite+widmanstatten</td>\n",
       "      <td>3</td>\n",
       "    </tr>\n",
       "    <tr>\n",
       "      <th>358</th>\n",
       "      <td>672</td>\n",
       "      <td>spheroidite+widmanstatten</td>\n",
       "      <td>3</td>\n",
       "    </tr>\n",
       "    <tr>\n",
       "      <th>359</th>\n",
       "      <td>673</td>\n",
       "      <td>spheroidite+widmanstatten</td>\n",
       "      <td>3</td>\n",
       "    </tr>\n",
       "  </tbody>\n",
       "</table>\n",
       "<p>360 rows × 3 columns</p>\n",
       "</div>"
      ],
      "text/plain": [
       "     index   primary_microconstituent label\n",
       "0        1                spheroidite     2\n",
       "1        4                spheroidite     2\n",
       "2        8                spheroidite     2\n",
       "3        9                spheroidite     2\n",
       "4       20                spheroidite     2\n",
       "..     ...                        ...   ...\n",
       "355    596  spheroidite+widmanstatten     3\n",
       "356    618  spheroidite+widmanstatten     3\n",
       "357    631  spheroidite+widmanstatten     3\n",
       "358    672  spheroidite+widmanstatten     3\n",
       "359    673  spheroidite+widmanstatten     3\n",
       "\n",
       "[360 rows x 3 columns]"
      ]
     },
     "execution_count": 132,
     "metadata": {},
     "output_type": "execute_result"
    }
   ],
   "source": [
    "ltrain"
   ]
  },
  {
   "cell_type": "code",
   "execution_count": null,
   "id": "27b7458b-d24f-47d4-a58b-b3eb5fcbe9a1",
   "metadata": {},
   "outputs": [
    {
     "data": {
      "text/plain": [
       "array([2, 2, 2, 2, 2, 2, 2, 2, 2, 2, 2, 2, 2, 2, 2, 2, 2, 2, 2, 2, 2, 2,\n",
       "       2, 2, 2, 2, 2, 2, 2, 2, 2, 2, 2, 2, 2, 2, 2, 2, 2, 2, 2, 2, 2, 2,\n",
       "       2, 2, 2, 2, 2, 2, 2, 2, 2, 2, 2, 2, 2, 2, 2, 2, 2, 2, 2, 2, 2, 2,\n",
       "       2, 2, 2, 2, 2, 2, 2, 2, 2, 2, 0, 0, 0, 0, 2, 0, 0, 0, 0, 0, 0, 2,\n",
       "       0, 2, 2, 0, 2, 0, 2, 0, 2, 2, 2, 2, 2, 2, 0, 2, 2, 0, 2, 2, 2, 0,\n",
       "       0, 0, 2, 2, 0, 2, 2, 0, 2, 0, 2, 2, 0, 0, 0, 0, 2, 0, 0, 2, 2, 2,\n",
       "       2, 2, 0, 0, 2, 2, 0, 2, 2, 2, 2, 0, 2, 2, 0, 0, 2, 2, 2, 2, 0, 2,\n",
       "       0, 2, 0, 2, 2, 2, 2, 2, 2, 0, 0, 0, 0, 0, 0, 2, 2, 2, 2, 2, 2, 0,\n",
       "       0, 2, 2, 2, 2, 0, 0, 2, 2, 2, 2, 0, 2, 2, 2, 2, 2, 0, 2, 2, 2, 2,\n",
       "       2, 2, 0, 2, 2, 2, 2, 2, 2, 2, 2, 2, 2, 0, 2, 2, 2, 2, 2, 2, 0, 0,\n",
       "       2, 0, 2, 2, 0, 2, 0, 2, 2, 3, 0, 2, 2, 0, 3, 2, 2, 0, 0, 2, 0, 2,\n",
       "       0, 2, 2, 2, 2, 0, 2, 3, 0, 2, 0, 2, 0, 3, 2, 0, 2, 0, 2, 2, 2, 3,\n",
       "       2, 2, 0, 0, 2, 2, 0, 2, 2, 2, 3, 2, 0, 2, 0, 2, 2, 2, 2, 2, 2, 0,\n",
       "       0, 2, 0, 2, 0, 0, 2, 0, 3, 0, 2, 2, 2, 2, 3, 3, 0, 2, 0, 0, 2, 0,\n",
       "       0, 2, 2, 2, 0, 2, 1, 2, 0, 2, 2, 0, 0, 0, 3, 1, 3, 1, 0, 2, 2, 1,\n",
       "       0, 2, 2, 2, 2, 0, 2, 2, 2, 2, 3, 2, 2, 0, 1, 1, 2, 1, 3, 3, 1, 2,\n",
       "       2, 0, 3, 0, 2, 0, 2, 2, 2, 3, 0, 2, 2, 2, 0, 0, 3, 1, 1, 1, 0, 1,\n",
       "       3, 0, 1, 2, 2, 3, 2, 2, 0, 2, 2, 0, 2, 0, 2, 2, 2, 1, 1, 2, 1, 2,\n",
       "       2, 2, 1, 1, 0, 0, 2, 1, 2, 3, 2, 2, 2, 0, 2, 2, 2, 2, 1, 1, 0, 2,\n",
       "       2, 0, 2, 2, 0, 0, 2, 1, 2, 3, 2, 1, 1])"
      ]
     },
     "execution_count": 233,
     "metadata": {},
     "output_type": "execute_result"
    }
   ],
   "source": [
    "ltest[\"label\"].to_numpy()"
   ]
  },
  {
   "cell_type": "code",
   "execution_count": null,
   "id": "3c64e065-5c8d-4348-a366-51b7da4516c7",
   "metadata": {},
   "outputs": [
    {
     "data": {
      "text/plain": [
       "(360, 64)"
      ]
     },
     "execution_count": 88,
     "metadata": {},
     "output_type": "execute_result"
    }
   ],
   "source": [
    "featn[\"block1_pool\"].shape"
   ]
  },
  {
   "cell_type": "code",
   "execution_count": 89,
   "id": "d8ac7a88-5bf9-4613-b954-0fb8302a967c",
   "metadata": {},
   "outputs": [
    {
     "data": {
      "text/plain": [
       "(360,)"
      ]
     },
     "execution_count": 89,
     "metadata": {},
     "output_type": "execute_result"
    }
   ],
   "source": [
    "y = df_train[\"label\"].to_numpy().astype(int)\n",
    "y.shape"
   ]
  },
  {
   "cell_type": "code",
   "execution_count": 93,
   "id": "e9888230-b073-493c-8924-dc680c729f28",
   "metadata": {},
   "outputs": [
    {
     "data": {
      "text/html": [
       "<style>#sk-container-id-5 {color: black;background-color: white;}#sk-container-id-5 pre{padding: 0;}#sk-container-id-5 div.sk-toggleable {background-color: white;}#sk-container-id-5 label.sk-toggleable__label {cursor: pointer;display: block;width: 100%;margin-bottom: 0;padding: 0.3em;box-sizing: border-box;text-align: center;}#sk-container-id-5 label.sk-toggleable__label-arrow:before {content: \"▸\";float: left;margin-right: 0.25em;color: #696969;}#sk-container-id-5 label.sk-toggleable__label-arrow:hover:before {color: black;}#sk-container-id-5 div.sk-estimator:hover label.sk-toggleable__label-arrow:before {color: black;}#sk-container-id-5 div.sk-toggleable__content {max-height: 0;max-width: 0;overflow: hidden;text-align: left;background-color: #f0f8ff;}#sk-container-id-5 div.sk-toggleable__content pre {margin: 0.2em;color: black;border-radius: 0.25em;background-color: #f0f8ff;}#sk-container-id-5 input.sk-toggleable__control:checked~div.sk-toggleable__content {max-height: 200px;max-width: 100%;overflow: auto;}#sk-container-id-5 input.sk-toggleable__control:checked~label.sk-toggleable__label-arrow:before {content: \"▾\";}#sk-container-id-5 div.sk-estimator input.sk-toggleable__control:checked~label.sk-toggleable__label {background-color: #d4ebff;}#sk-container-id-5 div.sk-label input.sk-toggleable__control:checked~label.sk-toggleable__label {background-color: #d4ebff;}#sk-container-id-5 input.sk-hidden--visually {border: 0;clip: rect(1px 1px 1px 1px);clip: rect(1px, 1px, 1px, 1px);height: 1px;margin: -1px;overflow: hidden;padding: 0;position: absolute;width: 1px;}#sk-container-id-5 div.sk-estimator {font-family: monospace;background-color: #f0f8ff;border: 1px dotted black;border-radius: 0.25em;box-sizing: border-box;margin-bottom: 0.5em;}#sk-container-id-5 div.sk-estimator:hover {background-color: #d4ebff;}#sk-container-id-5 div.sk-parallel-item::after {content: \"\";width: 100%;border-bottom: 1px solid gray;flex-grow: 1;}#sk-container-id-5 div.sk-label:hover label.sk-toggleable__label {background-color: #d4ebff;}#sk-container-id-5 div.sk-serial::before {content: \"\";position: absolute;border-left: 1px solid gray;box-sizing: border-box;top: 0;bottom: 0;left: 50%;z-index: 0;}#sk-container-id-5 div.sk-serial {display: flex;flex-direction: column;align-items: center;background-color: white;padding-right: 0.2em;padding-left: 0.2em;position: relative;}#sk-container-id-5 div.sk-item {position: relative;z-index: 1;}#sk-container-id-5 div.sk-parallel {display: flex;align-items: stretch;justify-content: center;background-color: white;position: relative;}#sk-container-id-5 div.sk-item::before, #sk-container-id-5 div.sk-parallel-item::before {content: \"\";position: absolute;border-left: 1px solid gray;box-sizing: border-box;top: 0;bottom: 0;left: 50%;z-index: -1;}#sk-container-id-5 div.sk-parallel-item {display: flex;flex-direction: column;z-index: 1;position: relative;background-color: white;}#sk-container-id-5 div.sk-parallel-item:first-child::after {align-self: flex-end;width: 50%;}#sk-container-id-5 div.sk-parallel-item:last-child::after {align-self: flex-start;width: 50%;}#sk-container-id-5 div.sk-parallel-item:only-child::after {width: 0;}#sk-container-id-5 div.sk-dashed-wrapped {border: 1px dashed gray;margin: 0 0.4em 0.5em 0.4em;box-sizing: border-box;padding-bottom: 0.4em;background-color: white;}#sk-container-id-5 div.sk-label label {font-family: monospace;font-weight: bold;display: inline-block;line-height: 1.2em;}#sk-container-id-5 div.sk-label-container {text-align: center;}#sk-container-id-5 div.sk-container {/* jupyter's `normalize.less` sets `[hidden] { display: none; }` but bootstrap.min.css set `[hidden] { display: none !important; }` so we also need the `!important` here to be able to override the default hidden behavior on the sphinx rendered scikit-learn.org. See: https://github.com/scikit-learn/scikit-learn/issues/21755 */display: inline-block !important;position: relative;}#sk-container-id-5 div.sk-text-repr-fallback {display: none;}</style><div id=\"sk-container-id-5\" class=\"sk-top-container\"><div class=\"sk-text-repr-fallback\"><pre>SVC(gamma=&#x27;auto&#x27;)</pre><b>In a Jupyter environment, please rerun this cell to show the HTML representation or trust the notebook. <br />On GitHub, the HTML representation is unable to render, please try loading this page with nbviewer.org.</b></div><div class=\"sk-container\" hidden><div class=\"sk-item\"><div class=\"sk-estimator sk-toggleable\"><input class=\"sk-toggleable__control sk-hidden--visually\" id=\"sk-estimator-id-5\" type=\"checkbox\" checked><label for=\"sk-estimator-id-5\" class=\"sk-toggleable__label sk-toggleable__label-arrow\">SVC</label><div class=\"sk-toggleable__content\"><pre>SVC(gamma=&#x27;auto&#x27;)</pre></div></div></div></div></div>"
      ],
      "text/plain": [
       "SVC(gamma='auto')"
      ]
     },
     "execution_count": 93,
     "metadata": {},
     "output_type": "execute_result"
    }
   ],
   "source": [
    "clf = svm.SVC(kernel=\"rbf\", C=1., gamma=\"auto\")\n",
    "clf.fit(featn[\"block1_pool\"], y)"
   ]
  },
  {
   "cell_type": "code",
   "execution_count": 92,
   "id": "8e128646-d148-4307-825a-5bdc535e11f1",
   "metadata": {},
   "outputs": [
    {
     "data": {
      "text/plain": [
       "array([2, 3, 2, 1, 2, 1, 2, 3, 2, 2, 1, 2, 2, 2, 2, 2, 2, 1, 2, 2, 2, 2,\n",
       "       2, 3, 0, 2, 2, 2, 2, 0, 2, 2, 2, 3, 2, 2, 1, 2, 1, 2, 3, 2, 3, 2,\n",
       "       2, 2, 3, 2, 3, 2, 2, 3, 2, 2, 2, 2, 2, 2, 2, 2, 2, 2, 3, 2, 2, 0,\n",
       "       3, 2, 2, 0, 1, 1, 1, 2, 3, 2, 0, 0, 3, 0, 2, 2, 0, 0, 0, 0, 2, 2,\n",
       "       3, 2, 1, 3, 2, 2, 0, 0, 2, 1, 2, 2, 2, 3, 0, 2, 2, 0, 3, 2, 2, 2,\n",
       "       3, 3, 2, 2, 0, 2, 2, 3, 2, 2, 2, 2, 2, 0, 0, 3, 0, 3, 0, 2, 2, 0,\n",
       "       2, 1, 2, 0, 2, 2, 3, 2, 1, 2, 2, 0, 2, 2, 0, 2, 2, 2, 2, 2, 2, 2,\n",
       "       0, 2, 0, 0, 2, 2, 2, 2, 2, 0, 0, 0, 0, 0, 2, 0, 2, 1, 2, 2, 2, 2,\n",
       "       0, 2, 2, 1, 2, 2, 0, 2, 2, 2, 0, 0, 3, 2, 2, 2, 2, 0, 2, 2, 2, 2,\n",
       "       2, 2, 2, 2, 2, 2, 2, 2, 2, 0, 2, 2, 1, 3, 2, 2, 2, 2, 2, 1, 2, 0,\n",
       "       2, 2, 3, 2, 0, 0, 2, 2, 2, 2, 0, 2, 2, 2, 2, 2, 2, 0, 2, 2, 0, 2,\n",
       "       0, 0, 3, 2, 2, 0, 2, 3, 2, 2, 0, 2, 0, 3, 2, 2, 2, 2, 1, 3, 3, 0,\n",
       "       1, 2, 2, 0, 0, 2, 0, 2, 3, 2, 2, 2, 0, 2, 0, 2, 2, 1, 2, 2, 2, 0,\n",
       "       0, 2, 2, 2, 3, 2, 2, 0, 2, 0, 2, 2, 3, 0, 3, 1, 0, 2, 3, 2, 2, 2,\n",
       "       2, 2, 3, 2, 0, 3, 2, 2, 0, 2, 2, 2, 2, 0, 3, 2, 1, 1, 3, 2, 2, 1,\n",
       "       0, 1, 2, 2, 2, 0, 2, 2, 1, 0, 0, 1, 0, 0, 1, 1, 1, 0, 1, 3, 2, 2,\n",
       "       2, 2, 1, 2, 2, 3, 2, 2, 2, 0, 2, 3, 0, 2, 0, 0, 3, 1, 1, 1, 0, 1,\n",
       "       2, 2, 1, 0, 2, 2, 2, 0, 2, 2, 2, 2, 2, 0, 2, 2, 0, 1, 3, 2, 1, 2,\n",
       "       2, 2, 2, 1, 2, 3, 2, 0, 2, 2, 2, 2, 0, 0, 1, 3, 0, 2, 1, 2, 3, 1,\n",
       "       2, 2, 2, 2, 0, 0, 1, 1, 0, 3, 2, 1, 1])"
      ]
     },
     "execution_count": 92,
     "metadata": {},
     "output_type": "execute_result"
    }
   ],
   "source": [
    "clf.predict(featt[\"block1_pool\"])"
   ]
  },
  {
   "cell_type": "markdown",
   "id": "d4f5bf26-ac85-47b3-9306-ea3d90ecf042",
   "metadata": {},
   "source": [
    "#### One-to-One SVM"
   ]
  },
  {
   "cell_type": "code",
   "execution_count": 355,
   "id": "70e10709-f9a9-4145-a5d9-7e65813bbad3",
   "metadata": {},
   "outputs": [],
   "source": [
    "class One2OneSVM:\n",
    "    def __init__(self, n_class=4):\n",
    "        self.n_class = n_class\n",
    "        self.clfs = [[svm.SVC(kernel=\"rbf\", C=1., gamma=\"auto\")\\\n",
    "                     for i in range(0,self.n_class)]\\\n",
    "                     for j in range(0,self.n_class)]\n",
    "    def train(self, ltrain, feature):\n",
    "        # traversal all features\n",
    "        for i in range(0, self.n_class-1):\n",
    "            lis = ltrain[ltrain[\"label\"] == i].index.to_numpy()\n",
    "            for j in range(i+1, self.n_class):\n",
    "                ljs = ltrain[ltrain[\"label\"] == j].index.to_numpy()\n",
    "                # Data\n",
    "                X = np.concatenate(\\\n",
    "                  (feature[lis,:],\\\n",
    "                   feature[ljs,:]), axis=0)\n",
    "                Y = np.concatenate((np.ones(len(lis))*i,np.ones(len(ljs))*j))\n",
    "                # Train SVM\n",
    "                self.clfs[i][j].fit(X,Y)    \n",
    "                \n",
    "    def test_1v1_error(self, ltest, feature):\n",
    "        # traversal all features\n",
    "        errM = np.zeros((self.n_class, self.n_class))\n",
    "        for i in range(0, self.n_class-1):\n",
    "            lis = ltest[ltest[\"label\"] == i].index.to_numpy()\n",
    "            for j in range(i+1, self.n_class):\n",
    "                ljs = ltest[ltest[\"label\"] == j].index.to_numpy()\n",
    "                # Data\n",
    "                X = np.concatenate(\\\n",
    "                  (feature[lis,:],\\\n",
    "                   feature[ljs,:]), axis=0)\n",
    "                Y = np.concatenate((np.ones(len(lis))*i,np.ones(len(ljs))*j))\n",
    "                # Train SVM\n",
    "                y_pred = self.clfs[i][j].predict(X)\n",
    "                errM[i,j] = error(Y, y_pred)\n",
    "        return errM\n",
    "        \n",
    "    def predict(self, feature):\n",
    "        predM = np.zeros(( int(self.n_class * (self.n_class -1)/2) , feature.shape[0]))\n",
    "        c = 0\n",
    "        for i in range(0, self.n_class-1):\n",
    "            for j in range(i+1, self.n_class):\n",
    "                predM[c,:] = self.clfs[i][j].predict(feature)\n",
    "                c += 1\n",
    "        return st.mode(predM, axis=0, keepdims=True).mode[0,:] #majority voting\n",
    "\n",
    "def error(ans, pred):\n",
    "    assert len(ans) == len(pred)\n",
    "    return (ans != pred).sum()/float(ans.size)"
   ]
  },
  {
   "cell_type": "markdown",
   "id": "279afeaf-bfe4-4245-92b0-e1ac2e0b3c82",
   "metadata": {
    "tags": []
   },
   "source": [
    "### (a)\n",
    "> The convolution layer used and the cross-validated error estimate for each of the six\n",
    "pairwise two-label classifiers"
   ]
  },
  {
   "cell_type": "code",
   "execution_count": 386,
   "id": "71c9759d-931e-4776-8bf4-56532aed8b78",
   "metadata": {},
   "outputs": [],
   "source": [
    "def df_error(m, info=\"\"):\n",
    "    var1 = []\n",
    "    var2 = []\n",
    "    errs = []\n",
    "    for i in range(0, m.shape[0]-1):\n",
    "        for j in range(i+1, m.shape[0]):\n",
    "            var1.append(i)\n",
    "            var2.append(j)\n",
    "            errs.append(m[i,j])\n",
    "    infos = [info] * len(errs)\n",
    "    return pd.DataFrame({\"Info\": infos, \"Label 1\": var1, \"Label 2\": var2, \"Error\": errs})"
   ]
  },
  {
   "cell_type": "code",
   "execution_count": 387,
   "id": "40b509df-fdfa-4136-9dcd-72743a32f995",
   "metadata": {},
   "outputs": [
    {
     "data": {
      "text/html": [
       "<div>\n",
       "<style scoped>\n",
       "    .dataframe tbody tr th:only-of-type {\n",
       "        vertical-align: middle;\n",
       "    }\n",
       "\n",
       "    .dataframe tbody tr th {\n",
       "        vertical-align: top;\n",
       "    }\n",
       "\n",
       "    .dataframe thead th {\n",
       "        text-align: right;\n",
       "    }\n",
       "</style>\n",
       "<table border=\"1\" class=\"dataframe\">\n",
       "  <thead>\n",
       "    <tr style=\"text-align: right;\">\n",
       "      <th></th>\n",
       "      <th>Info</th>\n",
       "      <th>Label 1</th>\n",
       "      <th>Label 2</th>\n",
       "      <th>Error</th>\n",
       "    </tr>\n",
       "  </thead>\n",
       "  <tbody>\n",
       "    <tr>\n",
       "      <th>0</th>\n",
       "      <td>block1_pool</td>\n",
       "      <td>0</td>\n",
       "      <td>1</td>\n",
       "      <td>0.823529</td>\n",
       "    </tr>\n",
       "    <tr>\n",
       "      <th>1</th>\n",
       "      <td>block1_pool</td>\n",
       "      <td>0</td>\n",
       "      <td>2</td>\n",
       "      <td>0.290155</td>\n",
       "    </tr>\n",
       "    <tr>\n",
       "      <th>2</th>\n",
       "      <td>block1_pool</td>\n",
       "      <td>0</td>\n",
       "      <td>3</td>\n",
       "      <td>0.157895</td>\n",
       "    </tr>\n",
       "    <tr>\n",
       "      <th>3</th>\n",
       "      <td>block1_pool</td>\n",
       "      <td>1</td>\n",
       "      <td>2</td>\n",
       "      <td>0.906040</td>\n",
       "    </tr>\n",
       "    <tr>\n",
       "      <th>4</th>\n",
       "      <td>block1_pool</td>\n",
       "      <td>1</td>\n",
       "      <td>3</td>\n",
       "      <td>0.466667</td>\n",
       "    </tr>\n",
       "    <tr>\n",
       "      <th>5</th>\n",
       "      <td>block1_pool</td>\n",
       "      <td>2</td>\n",
       "      <td>3</td>\n",
       "      <td>0.071186</td>\n",
       "    </tr>\n",
       "    <tr>\n",
       "      <th>0</th>\n",
       "      <td>block2_pool</td>\n",
       "      <td>0</td>\n",
       "      <td>1</td>\n",
       "      <td>0.823529</td>\n",
       "    </tr>\n",
       "    <tr>\n",
       "      <th>1</th>\n",
       "      <td>block2_pool</td>\n",
       "      <td>0</td>\n",
       "      <td>2</td>\n",
       "      <td>0.709845</td>\n",
       "    </tr>\n",
       "    <tr>\n",
       "      <th>2</th>\n",
       "      <td>block2_pool</td>\n",
       "      <td>0</td>\n",
       "      <td>3</td>\n",
       "      <td>0.157895</td>\n",
       "    </tr>\n",
       "    <tr>\n",
       "      <th>3</th>\n",
       "      <td>block2_pool</td>\n",
       "      <td>1</td>\n",
       "      <td>2</td>\n",
       "      <td>0.919463</td>\n",
       "    </tr>\n",
       "    <tr>\n",
       "      <th>4</th>\n",
       "      <td>block2_pool</td>\n",
       "      <td>1</td>\n",
       "      <td>3</td>\n",
       "      <td>0.466667</td>\n",
       "    </tr>\n",
       "    <tr>\n",
       "      <th>5</th>\n",
       "      <td>block2_pool</td>\n",
       "      <td>2</td>\n",
       "      <td>3</td>\n",
       "      <td>0.071186</td>\n",
       "    </tr>\n",
       "    <tr>\n",
       "      <th>0</th>\n",
       "      <td>block3_pool</td>\n",
       "      <td>0</td>\n",
       "      <td>1</td>\n",
       "      <td>0.823529</td>\n",
       "    </tr>\n",
       "    <tr>\n",
       "      <th>1</th>\n",
       "      <td>block3_pool</td>\n",
       "      <td>0</td>\n",
       "      <td>2</td>\n",
       "      <td>0.290155</td>\n",
       "    </tr>\n",
       "    <tr>\n",
       "      <th>2</th>\n",
       "      <td>block3_pool</td>\n",
       "      <td>0</td>\n",
       "      <td>3</td>\n",
       "      <td>0.157895</td>\n",
       "    </tr>\n",
       "    <tr>\n",
       "      <th>3</th>\n",
       "      <td>block3_pool</td>\n",
       "      <td>1</td>\n",
       "      <td>2</td>\n",
       "      <td>0.080537</td>\n",
       "    </tr>\n",
       "    <tr>\n",
       "      <th>4</th>\n",
       "      <td>block3_pool</td>\n",
       "      <td>1</td>\n",
       "      <td>3</td>\n",
       "      <td>0.466667</td>\n",
       "    </tr>\n",
       "    <tr>\n",
       "      <th>5</th>\n",
       "      <td>block3_pool</td>\n",
       "      <td>2</td>\n",
       "      <td>3</td>\n",
       "      <td>0.071186</td>\n",
       "    </tr>\n",
       "    <tr>\n",
       "      <th>0</th>\n",
       "      <td>block4_pool</td>\n",
       "      <td>0</td>\n",
       "      <td>1</td>\n",
       "      <td>0.823529</td>\n",
       "    </tr>\n",
       "    <tr>\n",
       "      <th>1</th>\n",
       "      <td>block4_pool</td>\n",
       "      <td>0</td>\n",
       "      <td>2</td>\n",
       "      <td>0.290155</td>\n",
       "    </tr>\n",
       "    <tr>\n",
       "      <th>2</th>\n",
       "      <td>block4_pool</td>\n",
       "      <td>0</td>\n",
       "      <td>3</td>\n",
       "      <td>0.157895</td>\n",
       "    </tr>\n",
       "    <tr>\n",
       "      <th>3</th>\n",
       "      <td>block4_pool</td>\n",
       "      <td>1</td>\n",
       "      <td>2</td>\n",
       "      <td>0.080537</td>\n",
       "    </tr>\n",
       "    <tr>\n",
       "      <th>4</th>\n",
       "      <td>block4_pool</td>\n",
       "      <td>1</td>\n",
       "      <td>3</td>\n",
       "      <td>0.466667</td>\n",
       "    </tr>\n",
       "    <tr>\n",
       "      <th>5</th>\n",
       "      <td>block4_pool</td>\n",
       "      <td>2</td>\n",
       "      <td>3</td>\n",
       "      <td>0.071186</td>\n",
       "    </tr>\n",
       "    <tr>\n",
       "      <th>0</th>\n",
       "      <td>block5_pool</td>\n",
       "      <td>0</td>\n",
       "      <td>1</td>\n",
       "      <td>0.073529</td>\n",
       "    </tr>\n",
       "    <tr>\n",
       "      <th>1</th>\n",
       "      <td>block5_pool</td>\n",
       "      <td>0</td>\n",
       "      <td>2</td>\n",
       "      <td>0.033679</td>\n",
       "    </tr>\n",
       "    <tr>\n",
       "      <th>2</th>\n",
       "      <td>block5_pool</td>\n",
       "      <td>0</td>\n",
       "      <td>3</td>\n",
       "      <td>0.060150</td>\n",
       "    </tr>\n",
       "    <tr>\n",
       "      <th>3</th>\n",
       "      <td>block5_pool</td>\n",
       "      <td>1</td>\n",
       "      <td>2</td>\n",
       "      <td>0.000000</td>\n",
       "    </tr>\n",
       "    <tr>\n",
       "      <th>4</th>\n",
       "      <td>block5_pool</td>\n",
       "      <td>1</td>\n",
       "      <td>3</td>\n",
       "      <td>0.088889</td>\n",
       "    </tr>\n",
       "    <tr>\n",
       "      <th>5</th>\n",
       "      <td>block5_pool</td>\n",
       "      <td>2</td>\n",
       "      <td>3</td>\n",
       "      <td>0.061017</td>\n",
       "    </tr>\n",
       "  </tbody>\n",
       "</table>\n",
       "</div>"
      ],
      "text/plain": [
       "          Info  Label 1  Label 2     Error\n",
       "0  block1_pool        0        1  0.823529\n",
       "1  block1_pool        0        2  0.290155\n",
       "2  block1_pool        0        3  0.157895\n",
       "3  block1_pool        1        2  0.906040\n",
       "4  block1_pool        1        3  0.466667\n",
       "5  block1_pool        2        3  0.071186\n",
       "0  block2_pool        0        1  0.823529\n",
       "1  block2_pool        0        2  0.709845\n",
       "2  block2_pool        0        3  0.157895\n",
       "3  block2_pool        1        2  0.919463\n",
       "4  block2_pool        1        3  0.466667\n",
       "5  block2_pool        2        3  0.071186\n",
       "0  block3_pool        0        1  0.823529\n",
       "1  block3_pool        0        2  0.290155\n",
       "2  block3_pool        0        3  0.157895\n",
       "3  block3_pool        1        2  0.080537\n",
       "4  block3_pool        1        3  0.466667\n",
       "5  block3_pool        2        3  0.071186\n",
       "0  block4_pool        0        1  0.823529\n",
       "1  block4_pool        0        2  0.290155\n",
       "2  block4_pool        0        3  0.157895\n",
       "3  block4_pool        1        2  0.080537\n",
       "4  block4_pool        1        3  0.466667\n",
       "5  block4_pool        2        3  0.071186\n",
       "0  block5_pool        0        1  0.073529\n",
       "1  block5_pool        0        2  0.033679\n",
       "2  block5_pool        0        3  0.060150\n",
       "3  block5_pool        1        2  0.000000\n",
       "4  block5_pool        1        3  0.088889\n",
       "5  block5_pool        2        3  0.061017"
      ]
     },
     "execution_count": 387,
     "metadata": {},
     "output_type": "execute_result"
    }
   ],
   "source": [
    "df_errors = []\n",
    "for b in out_layer_ns:\n",
    "    clf1 = One2OneSVM()\n",
    "    clf1.train(ltrain, features_train[b])\n",
    "    errs = clf1.test_1v1_error(ltest, features_test[b])\n",
    "    df_errors.append(df_error(errs, b))\n",
    "    \n",
    "res_error = pd.concat(df_errors)\n",
    "res_error"
   ]
  },
  {
   "cell_type": "markdown",
   "id": "23596f8a-fae3-4439-be63-8cd24ee48013",
   "metadata": {},
   "source": [
    "## (b)\n",
    "\n",
    "> Separate test error rates on the unused micrographs of each of the four categories, for\n",
    "the pairwise two-label classifiers and the multilabel one-vs-one voting classifier described\n",
    "previously. For the pairwise classifiers use only the test micrographs with the two labels\n",
    "used to train the classifier. For the multilabel classifier, use the test micrographs with\n",
    "the corresponding four labels."
   ]
  },
  {
   "cell_type": "code",
   "execution_count": null,
   "id": "7f0e25d9-e1e9-488b-add0-99ef86b2710b",
   "metadata": {},
   "outputs": [],
   "source": []
  }
 ],
 "metadata": {
  "kernelspec": {
   "display_name": "Python 3",
   "language": "python",
   "name": "python3"
  },
  "language_info": {
   "codemirror_mode": {
    "name": "ipython",
    "version": 3
   },
   "file_extension": ".py",
   "mimetype": "text/x-python",
   "name": "python",
   "nbconvert_exporter": "python",
   "pygments_lexer": "ipython3",
   "version": "3.9.12"
  }
 },
 "nbformat": 4,
 "nbformat_minor": 5
}
