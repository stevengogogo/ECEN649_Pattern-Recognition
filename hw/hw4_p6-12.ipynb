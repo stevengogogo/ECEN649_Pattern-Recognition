{
 "cells": [
  {
   "cell_type": "markdown",
   "id": "5feb78ff-3888-4f8e-8e1d-55b6e188970c",
   "metadata": {},
   "source": [
    "## Problem 6.12"
   ]
  },
  {
   "cell_type": "code",
   "execution_count": 51,
   "id": "315daa55-b97c-4e74-95a1-6549ea084bee",
   "metadata": {},
   "outputs": [],
   "source": [
    "import tensorflow as tf\n",
    "import numpy as np\n",
    "import PIL\n",
    "import cv2\n",
    "import os\n",
    "import sklearn\n",
    "import pandas as pd\n",
    "import pickle\n",
    "from tqdm.notebook import tqdm\n",
    "from sklearn import preprocessing\n",
    "from sklearn import svm\n",
    "from sklearn.pipeline import make_pipeline\n",
    "from sklearn.preprocessing import StandardScaler"
   ]
  },
  {
   "cell_type": "markdown",
   "id": "f8d98b1c-ba8e-47eb-b1d9-261a14842eaf",
   "metadata": {},
   "source": [
    "### Computational Environment"
   ]
  },
  {
   "cell_type": "code",
   "execution_count": 2,
   "id": "7cfca9c7-3f56-487b-8030-822c357fad94",
   "metadata": {},
   "outputs": [
    {
     "name": "stdout",
     "output_type": "stream",
     "text": [
      "[PhysicalDevice(name='/physical_device:GPU:0', device_type='GPU')]\n"
     ]
    }
   ],
   "source": [
    "physical_devices = tf.config.list_physical_devices('GPU')\n",
    "print(physical_devices)"
   ]
  },
  {
   "cell_type": "markdown",
   "id": "2e0a764a-3d02-4cf3-b4e4-ee0860f51c43",
   "metadata": {},
   "source": [
    "### Helper function"
   ]
  },
  {
   "cell_type": "code",
   "execution_count": 3,
   "id": "649b7f11-df46-468d-92ea-a1c8f294dc1a",
   "metadata": {},
   "outputs": [],
   "source": [
    "def load_image(path, width=484, preprocess_input=tf.keras.applications.vgg16.preprocess_input):\n",
    "    \"\"\"\n",
    "    Load and Preprocessing image\n",
    "    \"\"\"\n",
    "    img = tf.keras.utils.load_img(path)\n",
    "    x = tf.keras.utils.img_to_array(img)\n",
    "    x = x[0:width,:,:]\n",
    "    x = np.expand_dims(x, axis=0)\n",
    "    return tf.keras.applications.vgg16.preprocess_input(x)"
   ]
  },
  {
   "cell_type": "markdown",
   "id": "8b0d6b38-4f4f-4336-957a-20a2fd259007",
   "metadata": {},
   "source": [
    "### Data inspectation"
   ]
  },
  {
   "cell_type": "code",
   "execution_count": 4,
   "id": "8e1edca3-9cf4-4a1c-b1f2-03cba758f301",
   "metadata": {},
   "outputs": [],
   "source": [
    "dpath = os.path.join(\"data\", \"CMU-UHCS_Dataset\")\n",
    "pic_path = os.path.join(dpath, \"images\")\n",
    "df_micro = pd.read_csv( os.path.join(dpath, \"micrograph.csv\"))\n",
    "df_micro = df_micro[[\"path\", \"primary_microconstituent\"]]\n",
    "\n",
    "for i in range(0, len(df_micro)):\n",
    "    img_ph = os.path.join(pic_path,df_micro.iloc[i][0])\n",
    "    assert os.path.exists(img_ph)\n",
    "    df_micro.iloc[i][0] = img_ph\n",
    "\n",
    "CLS_rm = [\"pearlite+widmanstatten\", \"martensite\", \"pearlite+spheroidite\"] #(type, sample size)"
   ]
  },
  {
   "cell_type": "code",
   "execution_count": 5,
   "id": "ca315dad-5c16-4caf-a0a8-05232c0c16a0",
   "metadata": {},
   "outputs": [],
   "source": [
    "for c in CLS_rm:\n",
    "    df_micro.drop(df_micro[df_micro[\"primary_microconstituent\"] == c].index, inplace=True)"
   ]
  },
  {
   "cell_type": "code",
   "execution_count": 6,
   "id": "3ae27cb6-ed67-4d40-800a-409ec64fff42",
   "metadata": {},
   "outputs": [
    {
     "data": {
      "text/plain": [
       "['network', 'pearlite', 'spheroidite', 'spheroidite+widmanstatten']"
      ]
     },
     "execution_count": 6,
     "metadata": {},
     "output_type": "execute_result"
    }
   ],
   "source": [
    "# labels\n",
    "name_lbs = df_micro[\"primary_microconstituent\"].unique()\n",
    "le = preprocessing.LabelEncoder()\n",
    "le.fit(name_lbs)\n",
    "list(le.classes_)"
   ]
  },
  {
   "cell_type": "code",
   "execution_count": 7,
   "id": "4d0c2ed4-0d2f-4df8-a11e-7acc2c8139da",
   "metadata": {},
   "outputs": [
    {
     "data": {
      "text/html": [
       "<div>\n",
       "<style scoped>\n",
       "    .dataframe tbody tr th:only-of-type {\n",
       "        vertical-align: middle;\n",
       "    }\n",
       "\n",
       "    .dataframe tbody tr th {\n",
       "        vertical-align: top;\n",
       "    }\n",
       "\n",
       "    .dataframe thead th {\n",
       "        text-align: right;\n",
       "    }\n",
       "</style>\n",
       "<table border=\"1\" class=\"dataframe\">\n",
       "  <thead>\n",
       "    <tr style=\"text-align: right;\">\n",
       "      <th></th>\n",
       "      <th>path</th>\n",
       "      <th>primary_microconstituent</th>\n",
       "      <th>label</th>\n",
       "    </tr>\n",
       "  </thead>\n",
       "  <tbody>\n",
       "    <tr>\n",
       "      <th>0</th>\n",
       "      <td>data/CMU-UHCS_Dataset/images/micrograph1.tif</td>\n",
       "      <td>pearlite</td>\n",
       "      <td>1</td>\n",
       "    </tr>\n",
       "    <tr>\n",
       "      <th>1</th>\n",
       "      <td>data/CMU-UHCS_Dataset/images/micrograph2.tif</td>\n",
       "      <td>spheroidite</td>\n",
       "      <td>2</td>\n",
       "    </tr>\n",
       "    <tr>\n",
       "      <th>3</th>\n",
       "      <td>data/CMU-UHCS_Dataset/images/micrograph5.tif</td>\n",
       "      <td>pearlite</td>\n",
       "      <td>1</td>\n",
       "    </tr>\n",
       "    <tr>\n",
       "      <th>4</th>\n",
       "      <td>data/CMU-UHCS_Dataset/images/micrograph6.tif</td>\n",
       "      <td>spheroidite</td>\n",
       "      <td>2</td>\n",
       "    </tr>\n",
       "    <tr>\n",
       "      <th>5</th>\n",
       "      <td>data/CMU-UHCS_Dataset/images/micrograph7.tif</td>\n",
       "      <td>spheroidite+widmanstatten</td>\n",
       "      <td>3</td>\n",
       "    </tr>\n",
       "    <tr>\n",
       "      <th>...</th>\n",
       "      <td>...</td>\n",
       "      <td>...</td>\n",
       "      <td>...</td>\n",
       "    </tr>\n",
       "    <tr>\n",
       "      <th>955</th>\n",
       "      <td>data/CMU-UHCS_Dataset/images/micrograph1722.tif</td>\n",
       "      <td>spheroidite</td>\n",
       "      <td>2</td>\n",
       "    </tr>\n",
       "    <tr>\n",
       "      <th>957</th>\n",
       "      <td>data/CMU-UHCS_Dataset/images/micrograph1726.tif</td>\n",
       "      <td>spheroidite+widmanstatten</td>\n",
       "      <td>3</td>\n",
       "    </tr>\n",
       "    <tr>\n",
       "      <th>958</th>\n",
       "      <td>data/CMU-UHCS_Dataset/images/micrograph1730.png</td>\n",
       "      <td>spheroidite</td>\n",
       "      <td>2</td>\n",
       "    </tr>\n",
       "    <tr>\n",
       "      <th>959</th>\n",
       "      <td>data/CMU-UHCS_Dataset/images/micrograph1731.tif</td>\n",
       "      <td>pearlite</td>\n",
       "      <td>1</td>\n",
       "    </tr>\n",
       "    <tr>\n",
       "      <th>960</th>\n",
       "      <td>data/CMU-UHCS_Dataset/images/micrograph1732.tif</td>\n",
       "      <td>pearlite</td>\n",
       "      <td>1</td>\n",
       "    </tr>\n",
       "  </tbody>\n",
       "</table>\n",
       "<p>791 rows × 3 columns</p>\n",
       "</div>"
      ],
      "text/plain": [
       "                                                path  \\\n",
       "0       data/CMU-UHCS_Dataset/images/micrograph1.tif   \n",
       "1       data/CMU-UHCS_Dataset/images/micrograph2.tif   \n",
       "3       data/CMU-UHCS_Dataset/images/micrograph5.tif   \n",
       "4       data/CMU-UHCS_Dataset/images/micrograph6.tif   \n",
       "5       data/CMU-UHCS_Dataset/images/micrograph7.tif   \n",
       "..                                               ...   \n",
       "955  data/CMU-UHCS_Dataset/images/micrograph1722.tif   \n",
       "957  data/CMU-UHCS_Dataset/images/micrograph1726.tif   \n",
       "958  data/CMU-UHCS_Dataset/images/micrograph1730.png   \n",
       "959  data/CMU-UHCS_Dataset/images/micrograph1731.tif   \n",
       "960  data/CMU-UHCS_Dataset/images/micrograph1732.tif   \n",
       "\n",
       "      primary_microconstituent  label  \n",
       "0                     pearlite      1  \n",
       "1                  spheroidite      2  \n",
       "3                     pearlite      1  \n",
       "4                  spheroidite      2  \n",
       "5    spheroidite+widmanstatten      3  \n",
       "..                         ...    ...  \n",
       "955                spheroidite      2  \n",
       "957  spheroidite+widmanstatten      3  \n",
       "958                spheroidite      2  \n",
       "959                   pearlite      1  \n",
       "960                   pearlite      1  \n",
       "\n",
       "[791 rows x 3 columns]"
      ]
     },
     "execution_count": 7,
     "metadata": {},
     "output_type": "execute_result"
    }
   ],
   "source": [
    "dlabel = le.transform(df_micro[\"primary_microconstituent\"])\n",
    "df_micro.insert(2, \"label\", dlabel)\n",
    "df_micro"
   ]
  },
  {
   "cell_type": "markdown",
   "id": "29623ffc-3d4c-4d45-a0ad-7e04749d8907",
   "metadata": {},
   "source": [
    "### Data Processing"
   ]
  },
  {
   "cell_type": "code",
   "execution_count": 8,
   "id": "b20239b1-9f89-4321-aeea-1bbcbff23f32",
   "metadata": {},
   "outputs": [],
   "source": [
    "# Train-test split\n",
    "df_test = df_micro.copy()\n",
    "df_train = pd.DataFrame(columns = df_micro.keys())\n",
    "\n",
    "split_info = [(\"spheroidite\", 100),\\\n",
    "              (\"network\", 100),\\\n",
    "              (\"pearlite\", 100),\\\n",
    "              (\"spheroidite+widmanstatten\", 60)] #(type, sample size)\n",
    "\n",
    "\n",
    "\n",
    "for ln in split_info:\n",
    "    label, n = ln\n",
    "    id_train = df_micro[df_micro[\"primary_microconstituent\"] == label][0:n].index\n",
    "    df_test.drop(id_train, axis=0, inplace=True)\n",
    "    df_train = pd.concat([df_train, df_micro.loc[id_train]])"
   ]
  },
  {
   "cell_type": "code",
   "execution_count": 9,
   "id": "2adc8830-9af8-40c3-ad71-480c0cf60045",
   "metadata": {},
   "outputs": [
    {
     "data": {
      "text/html": [
       "<div>\n",
       "<style scoped>\n",
       "    .dataframe tbody tr th:only-of-type {\n",
       "        vertical-align: middle;\n",
       "    }\n",
       "\n",
       "    .dataframe tbody tr th {\n",
       "        vertical-align: top;\n",
       "    }\n",
       "\n",
       "    .dataframe thead th {\n",
       "        text-align: right;\n",
       "    }\n",
       "</style>\n",
       "<table border=\"1\" class=\"dataframe\">\n",
       "  <thead>\n",
       "    <tr style=\"text-align: right;\">\n",
       "      <th></th>\n",
       "      <th>path</th>\n",
       "      <th>primary_microconstituent</th>\n",
       "      <th>label</th>\n",
       "    </tr>\n",
       "  </thead>\n",
       "  <tbody>\n",
       "    <tr>\n",
       "      <th>1</th>\n",
       "      <td>data/CMU-UHCS_Dataset/images/micrograph2.tif</td>\n",
       "      <td>spheroidite</td>\n",
       "      <td>2</td>\n",
       "    </tr>\n",
       "    <tr>\n",
       "      <th>4</th>\n",
       "      <td>data/CMU-UHCS_Dataset/images/micrograph6.tif</td>\n",
       "      <td>spheroidite</td>\n",
       "      <td>2</td>\n",
       "    </tr>\n",
       "    <tr>\n",
       "      <th>8</th>\n",
       "      <td>data/CMU-UHCS_Dataset/images/micrograph10.png</td>\n",
       "      <td>spheroidite</td>\n",
       "      <td>2</td>\n",
       "    </tr>\n",
       "    <tr>\n",
       "      <th>9</th>\n",
       "      <td>data/CMU-UHCS_Dataset/images/micrograph11.tif</td>\n",
       "      <td>spheroidite</td>\n",
       "      <td>2</td>\n",
       "    </tr>\n",
       "    <tr>\n",
       "      <th>20</th>\n",
       "      <td>data/CMU-UHCS_Dataset/images/micrograph29.tif</td>\n",
       "      <td>spheroidite</td>\n",
       "      <td>2</td>\n",
       "    </tr>\n",
       "    <tr>\n",
       "      <th>...</th>\n",
       "      <td>...</td>\n",
       "      <td>...</td>\n",
       "      <td>...</td>\n",
       "    </tr>\n",
       "    <tr>\n",
       "      <th>596</th>\n",
       "      <td>data/CMU-UHCS_Dataset/images/micrograph1093.tif</td>\n",
       "      <td>spheroidite+widmanstatten</td>\n",
       "      <td>3</td>\n",
       "    </tr>\n",
       "    <tr>\n",
       "      <th>618</th>\n",
       "      <td>data/CMU-UHCS_Dataset/images/micrograph1129.tif</td>\n",
       "      <td>spheroidite+widmanstatten</td>\n",
       "      <td>3</td>\n",
       "    </tr>\n",
       "    <tr>\n",
       "      <th>631</th>\n",
       "      <td>data/CMU-UHCS_Dataset/images/micrograph1156.tif</td>\n",
       "      <td>spheroidite+widmanstatten</td>\n",
       "      <td>3</td>\n",
       "    </tr>\n",
       "    <tr>\n",
       "      <th>672</th>\n",
       "      <td>data/CMU-UHCS_Dataset/images/micrograph1218.tif</td>\n",
       "      <td>spheroidite+widmanstatten</td>\n",
       "      <td>3</td>\n",
       "    </tr>\n",
       "    <tr>\n",
       "      <th>673</th>\n",
       "      <td>data/CMU-UHCS_Dataset/images/micrograph1219.tif</td>\n",
       "      <td>spheroidite+widmanstatten</td>\n",
       "      <td>3</td>\n",
       "    </tr>\n",
       "  </tbody>\n",
       "</table>\n",
       "<p>360 rows × 3 columns</p>\n",
       "</div>"
      ],
      "text/plain": [
       "                                                path  \\\n",
       "1       data/CMU-UHCS_Dataset/images/micrograph2.tif   \n",
       "4       data/CMU-UHCS_Dataset/images/micrograph6.tif   \n",
       "8      data/CMU-UHCS_Dataset/images/micrograph10.png   \n",
       "9      data/CMU-UHCS_Dataset/images/micrograph11.tif   \n",
       "20     data/CMU-UHCS_Dataset/images/micrograph29.tif   \n",
       "..                                               ...   \n",
       "596  data/CMU-UHCS_Dataset/images/micrograph1093.tif   \n",
       "618  data/CMU-UHCS_Dataset/images/micrograph1129.tif   \n",
       "631  data/CMU-UHCS_Dataset/images/micrograph1156.tif   \n",
       "672  data/CMU-UHCS_Dataset/images/micrograph1218.tif   \n",
       "673  data/CMU-UHCS_Dataset/images/micrograph1219.tif   \n",
       "\n",
       "      primary_microconstituent label  \n",
       "1                  spheroidite     2  \n",
       "4                  spheroidite     2  \n",
       "8                  spheroidite     2  \n",
       "9                  spheroidite     2  \n",
       "20                 spheroidite     2  \n",
       "..                         ...   ...  \n",
       "596  spheroidite+widmanstatten     3  \n",
       "618  spheroidite+widmanstatten     3  \n",
       "631  spheroidite+widmanstatten     3  \n",
       "672  spheroidite+widmanstatten     3  \n",
       "673  spheroidite+widmanstatten     3  \n",
       "\n",
       "[360 rows x 3 columns]"
      ]
     },
     "execution_count": 9,
     "metadata": {},
     "output_type": "execute_result"
    }
   ],
   "source": [
    "df_train"
   ]
  },
  {
   "cell_type": "code",
   "execution_count": 10,
   "id": "4e039d84-aea2-4ef9-bda9-34486308768e",
   "metadata": {},
   "outputs": [
    {
     "data": {
      "text/html": [
       "<div>\n",
       "<style scoped>\n",
       "    .dataframe tbody tr th:only-of-type {\n",
       "        vertical-align: middle;\n",
       "    }\n",
       "\n",
       "    .dataframe tbody tr th {\n",
       "        vertical-align: top;\n",
       "    }\n",
       "\n",
       "    .dataframe thead th {\n",
       "        text-align: right;\n",
       "    }\n",
       "</style>\n",
       "<table border=\"1\" class=\"dataframe\">\n",
       "  <thead>\n",
       "    <tr style=\"text-align: right;\">\n",
       "      <th></th>\n",
       "      <th>path</th>\n",
       "      <th>primary_microconstituent</th>\n",
       "      <th>label</th>\n",
       "    </tr>\n",
       "  </thead>\n",
       "  <tbody>\n",
       "    <tr>\n",
       "      <th>237</th>\n",
       "      <td>data/CMU-UHCS_Dataset/images/micrograph436.png</td>\n",
       "      <td>spheroidite</td>\n",
       "      <td>2</td>\n",
       "    </tr>\n",
       "    <tr>\n",
       "      <th>238</th>\n",
       "      <td>data/CMU-UHCS_Dataset/images/micrograph437.tif</td>\n",
       "      <td>spheroidite</td>\n",
       "      <td>2</td>\n",
       "    </tr>\n",
       "    <tr>\n",
       "      <th>239</th>\n",
       "      <td>data/CMU-UHCS_Dataset/images/micrograph440.png</td>\n",
       "      <td>spheroidite</td>\n",
       "      <td>2</td>\n",
       "    </tr>\n",
       "    <tr>\n",
       "      <th>241</th>\n",
       "      <td>data/CMU-UHCS_Dataset/images/micrograph442.tif</td>\n",
       "      <td>spheroidite</td>\n",
       "      <td>2</td>\n",
       "    </tr>\n",
       "    <tr>\n",
       "      <th>242</th>\n",
       "      <td>data/CMU-UHCS_Dataset/images/micrograph443.tif</td>\n",
       "      <td>spheroidite</td>\n",
       "      <td>2</td>\n",
       "    </tr>\n",
       "    <tr>\n",
       "      <th>...</th>\n",
       "      <td>...</td>\n",
       "      <td>...</td>\n",
       "      <td>...</td>\n",
       "    </tr>\n",
       "    <tr>\n",
       "      <th>955</th>\n",
       "      <td>data/CMU-UHCS_Dataset/images/micrograph1722.tif</td>\n",
       "      <td>spheroidite</td>\n",
       "      <td>2</td>\n",
       "    </tr>\n",
       "    <tr>\n",
       "      <th>957</th>\n",
       "      <td>data/CMU-UHCS_Dataset/images/micrograph1726.tif</td>\n",
       "      <td>spheroidite+widmanstatten</td>\n",
       "      <td>3</td>\n",
       "    </tr>\n",
       "    <tr>\n",
       "      <th>958</th>\n",
       "      <td>data/CMU-UHCS_Dataset/images/micrograph1730.png</td>\n",
       "      <td>spheroidite</td>\n",
       "      <td>2</td>\n",
       "    </tr>\n",
       "    <tr>\n",
       "      <th>959</th>\n",
       "      <td>data/CMU-UHCS_Dataset/images/micrograph1731.tif</td>\n",
       "      <td>pearlite</td>\n",
       "      <td>1</td>\n",
       "    </tr>\n",
       "    <tr>\n",
       "      <th>960</th>\n",
       "      <td>data/CMU-UHCS_Dataset/images/micrograph1732.tif</td>\n",
       "      <td>pearlite</td>\n",
       "      <td>1</td>\n",
       "    </tr>\n",
       "  </tbody>\n",
       "</table>\n",
       "<p>431 rows × 3 columns</p>\n",
       "</div>"
      ],
      "text/plain": [
       "                                                path  \\\n",
       "237   data/CMU-UHCS_Dataset/images/micrograph436.png   \n",
       "238   data/CMU-UHCS_Dataset/images/micrograph437.tif   \n",
       "239   data/CMU-UHCS_Dataset/images/micrograph440.png   \n",
       "241   data/CMU-UHCS_Dataset/images/micrograph442.tif   \n",
       "242   data/CMU-UHCS_Dataset/images/micrograph443.tif   \n",
       "..                                               ...   \n",
       "955  data/CMU-UHCS_Dataset/images/micrograph1722.tif   \n",
       "957  data/CMU-UHCS_Dataset/images/micrograph1726.tif   \n",
       "958  data/CMU-UHCS_Dataset/images/micrograph1730.png   \n",
       "959  data/CMU-UHCS_Dataset/images/micrograph1731.tif   \n",
       "960  data/CMU-UHCS_Dataset/images/micrograph1732.tif   \n",
       "\n",
       "      primary_microconstituent  label  \n",
       "237                spheroidite      2  \n",
       "238                spheroidite      2  \n",
       "239                spheroidite      2  \n",
       "241                spheroidite      2  \n",
       "242                spheroidite      2  \n",
       "..                         ...    ...  \n",
       "955                spheroidite      2  \n",
       "957  spheroidite+widmanstatten      3  \n",
       "958                spheroidite      2  \n",
       "959                   pearlite      1  \n",
       "960                   pearlite      1  \n",
       "\n",
       "[431 rows x 3 columns]"
      ]
     },
     "execution_count": 10,
     "metadata": {},
     "output_type": "execute_result"
    }
   ],
   "source": [
    "df_test"
   ]
  },
  {
   "cell_type": "markdown",
   "id": "f724aac0-79eb-4a6a-a69c-91add6320e60",
   "metadata": {},
   "source": [
    "### Feature Extraction"
   ]
  },
  {
   "cell_type": "code",
   "execution_count": 11,
   "id": "f67bf805-ac41-4da8-8d56-47764559f462",
   "metadata": {},
   "outputs": [
    {
     "name": "stdout",
     "output_type": "stream",
     "text": [
      "Model: \"vgg16\"\n",
      "_________________________________________________________________\n",
      " Layer (type)                Output Shape              Param #   \n",
      "=================================================================\n",
      " input_1 (InputLayer)        [(None, None, None, 3)]   0         \n",
      "                                                                 \n",
      " block1_conv1 (Conv2D)       (None, None, None, 64)    1792      \n",
      "                                                                 \n",
      " block1_conv2 (Conv2D)       (None, None, None, 64)    36928     \n",
      "                                                                 \n",
      " block1_pool (MaxPooling2D)  (None, None, None, 64)    0         \n",
      "                                                                 \n",
      " block2_conv1 (Conv2D)       (None, None, None, 128)   73856     \n",
      "                                                                 \n",
      " block2_conv2 (Conv2D)       (None, None, None, 128)   147584    \n",
      "                                                                 \n",
      " block2_pool (MaxPooling2D)  (None, None, None, 128)   0         \n",
      "                                                                 \n",
      " block3_conv1 (Conv2D)       (None, None, None, 256)   295168    \n",
      "                                                                 \n",
      " block3_conv2 (Conv2D)       (None, None, None, 256)   590080    \n",
      "                                                                 \n",
      " block3_conv3 (Conv2D)       (None, None, None, 256)   590080    \n",
      "                                                                 \n",
      " block3_pool (MaxPooling2D)  (None, None, None, 256)   0         \n",
      "                                                                 \n",
      " block4_conv1 (Conv2D)       (None, None, None, 512)   1180160   \n",
      "                                                                 \n",
      " block4_conv2 (Conv2D)       (None, None, None, 512)   2359808   \n",
      "                                                                 \n",
      " block4_conv3 (Conv2D)       (None, None, None, 512)   2359808   \n",
      "                                                                 \n",
      " block4_pool (MaxPooling2D)  (None, None, None, 512)   0         \n",
      "                                                                 \n",
      " block5_conv1 (Conv2D)       (None, None, None, 512)   2359808   \n",
      "                                                                 \n",
      " block5_conv2 (Conv2D)       (None, None, None, 512)   2359808   \n",
      "                                                                 \n",
      " block5_conv3 (Conv2D)       (None, None, None, 512)   2359808   \n",
      "                                                                 \n",
      " block5_pool (MaxPooling2D)  (None, None, None, 512)   0         \n",
      "                                                                 \n",
      "=================================================================\n",
      "Total params: 14,714,688\n",
      "Trainable params: 14,714,688\n",
      "Non-trainable params: 0\n",
      "_________________________________________________________________\n"
     ]
    }
   ],
   "source": [
    "# VGG16\n",
    "\n",
    "base_model = tf.keras.applications.vgg16.VGG16(\n",
    "    include_top=False,\n",
    "    weights='imagenet',\n",
    "    input_tensor=None,\n",
    "    input_shape=None,\n",
    "    pooling=None,\n",
    "    classes=1000,\n",
    "    classifier_activation='softmax'\n",
    ")\n",
    "\n",
    "base_model.summary()"
   ]
  },
  {
   "cell_type": "markdown",
   "id": "ad97f25f-844c-48c5-b581-c962fe722be7",
   "metadata": {},
   "source": [
    "Use five layers"
   ]
  },
  {
   "cell_type": "code",
   "execution_count": 12,
   "id": "29d52c02-08ac-4551-9997-315133304b5c",
   "metadata": {},
   "outputs": [
    {
     "data": {
      "text/plain": [
       "['block1_pool', 'block2_pool', 'block3_pool', 'block4_pool', 'block5_pool']"
      ]
     },
     "execution_count": 12,
     "metadata": {},
     "output_type": "execute_result"
    }
   ],
   "source": [
    "out_layer_ns = [\"block{}_pool\".format(i) for i in range(1,6)]\n",
    "out_layer_ns"
   ]
  },
  {
   "cell_type": "code",
   "execution_count": 13,
   "id": "6e5204dd-bc48-44cc-8d0a-2d6c44be736d",
   "metadata": {},
   "outputs": [
    {
     "data": {
      "text/plain": [
       "{'block1_pool': <keras.engine.functional.Functional at 0x29f411e20>,\n",
       " 'block2_pool': <keras.engine.functional.Functional at 0x2af72ecd0>,\n",
       " 'block3_pool': <keras.engine.functional.Functional at 0x2b06b63d0>,\n",
       " 'block4_pool': <keras.engine.functional.Functional at 0x2b06be5b0>,\n",
       " 'block5_pool': <keras.engine.functional.Functional at 0x2b06bedf0>}"
      ]
     },
     "execution_count": 13,
     "metadata": {},
     "output_type": "execute_result"
    }
   ],
   "source": [
    "extmodel = dict(zip(out_layer_ns, [tf.keras.Model(\n",
    "    inputs= base_model.input,\n",
    "    outputs=base_model.get_layer(bk_name).output\n",
    ") for bk_name in out_layer_ns]))\n",
    "\n",
    "extmodel"
   ]
  },
  {
   "cell_type": "code",
   "execution_count": 14,
   "id": "9c3b31a8-813c-4614-8c13-0068e62a1e9c",
   "metadata": {},
   "outputs": [
    {
     "data": {
      "text/plain": [
       "[64, 128, 256, 512, 512]"
      ]
     },
     "execution_count": 14,
     "metadata": {},
     "output_type": "execute_result"
    }
   ],
   "source": [
    "out_shapes = [extmodel[m].output_shape[-1] for m in extmodel.keys()]\n",
    "out_shapes"
   ]
  },
  {
   "cell_type": "code",
   "execution_count": 15,
   "id": "d3aa7357-7d7e-4448-b3e9-a3fd26de16c4",
   "metadata": {},
   "outputs": [
    {
     "data": {
      "text/plain": [
       "{'block1_pool': array([[0., 0., 0., ..., 0., 0., 0.],\n",
       "        [0., 0., 0., ..., 0., 0., 0.],\n",
       "        [0., 0., 0., ..., 0., 0., 0.],\n",
       "        ...,\n",
       "        [0., 0., 0., ..., 0., 0., 0.],\n",
       "        [0., 0., 0., ..., 0., 0., 0.],\n",
       "        [0., 0., 0., ..., 0., 0., 0.]]),\n",
       " 'block2_pool': array([[0., 0., 0., ..., 0., 0., 0.],\n",
       "        [0., 0., 0., ..., 0., 0., 0.],\n",
       "        [0., 0., 0., ..., 0., 0., 0.],\n",
       "        ...,\n",
       "        [0., 0., 0., ..., 0., 0., 0.],\n",
       "        [0., 0., 0., ..., 0., 0., 0.],\n",
       "        [0., 0., 0., ..., 0., 0., 0.]]),\n",
       " 'block3_pool': array([[0., 0., 0., ..., 0., 0., 0.],\n",
       "        [0., 0., 0., ..., 0., 0., 0.],\n",
       "        [0., 0., 0., ..., 0., 0., 0.],\n",
       "        ...,\n",
       "        [0., 0., 0., ..., 0., 0., 0.],\n",
       "        [0., 0., 0., ..., 0., 0., 0.],\n",
       "        [0., 0., 0., ..., 0., 0., 0.]]),\n",
       " 'block4_pool': array([[0., 0., 0., ..., 0., 0., 0.],\n",
       "        [0., 0., 0., ..., 0., 0., 0.],\n",
       "        [0., 0., 0., ..., 0., 0., 0.],\n",
       "        ...,\n",
       "        [0., 0., 0., ..., 0., 0., 0.],\n",
       "        [0., 0., 0., ..., 0., 0., 0.],\n",
       "        [0., 0., 0., ..., 0., 0., 0.]]),\n",
       " 'block5_pool': array([[0., 0., 0., ..., 0., 0., 0.],\n",
       "        [0., 0., 0., ..., 0., 0., 0.],\n",
       "        [0., 0., 0., ..., 0., 0., 0.],\n",
       "        ...,\n",
       "        [0., 0., 0., ..., 0., 0., 0.],\n",
       "        [0., 0., 0., ..., 0., 0., 0.],\n",
       "        [0., 0., 0., ..., 0., 0., 0.]])}"
      ]
     },
     "execution_count": 15,
     "metadata": {},
     "output_type": "execute_result"
    }
   ],
   "source": [
    "n_imgs = df_train.shape[0]\n",
    "fs = [np.zeros((n_imgs, n_f)) for n_f in out_shapes]\n",
    "features = dict(zip(out_layer_ns, fs))\n",
    "\n",
    "features"
   ]
  },
  {
   "cell_type": "code",
   "execution_count": 20,
   "id": "71d50cca-be63-4ae4-9a2e-ecc4b46841be",
   "metadata": {},
   "outputs": [
    {
     "data": {
      "application/json": {
       "ascii": false,
       "bar_format": null,
       "colour": null,
       "elapsed": 0.022685766220092773,
       "initial": 0,
       "n": 0,
       "ncols": null,
       "nrows": null,
       "postfix": null,
       "prefix": "",
       "rate": null,
       "total": 5,
       "unit": "it",
       "unit_divisor": 1000,
       "unit_scale": false
      },
      "application/vnd.jupyter.widget-view+json": {
       "model_id": "50e572c4e53d48fab1a77283037dca6e",
       "version_major": 2,
       "version_minor": 0
      },
      "text/plain": [
       "  0%|          | 0/5 [00:00<?, ?it/s]"
      ]
     },
     "metadata": {},
     "output_type": "display_data"
    },
    {
     "data": {
      "application/json": {
       "ascii": false,
       "bar_format": null,
       "colour": null,
       "elapsed": 0.01399993896484375,
       "initial": 0,
       "n": 0,
       "ncols": null,
       "nrows": null,
       "postfix": null,
       "prefix": "",
       "rate": null,
       "total": null,
       "unit": "it",
       "unit_divisor": 1000,
       "unit_scale": false
      },
      "application/vnd.jupyter.widget-view+json": {
       "model_id": "245303cb7b2b47a2acca85feca2abe89",
       "version_major": 2,
       "version_minor": 0
      },
      "text/plain": [
       "0it [00:00, ?it/s]"
      ]
     },
     "metadata": {},
     "output_type": "display_data"
    },
    {
     "data": {
      "application/json": {
       "ascii": false,
       "bar_format": null,
       "colour": null,
       "elapsed": 0.007729053497314453,
       "initial": 0,
       "n": 0,
       "ncols": null,
       "nrows": null,
       "postfix": null,
       "prefix": "",
       "rate": null,
       "total": null,
       "unit": "it",
       "unit_divisor": 1000,
       "unit_scale": false
      },
      "application/vnd.jupyter.widget-view+json": {
       "model_id": "1b3867e8d8104e308e432162c279cb3b",
       "version_major": 2,
       "version_minor": 0
      },
      "text/plain": [
       "0it [00:00, ?it/s]"
      ]
     },
     "metadata": {},
     "output_type": "display_data"
    },
    {
     "data": {
      "application/json": {
       "ascii": false,
       "bar_format": null,
       "colour": null,
       "elapsed": 0.00847482681274414,
       "initial": 0,
       "n": 0,
       "ncols": null,
       "nrows": null,
       "postfix": null,
       "prefix": "",
       "rate": null,
       "total": null,
       "unit": "it",
       "unit_divisor": 1000,
       "unit_scale": false
      },
      "application/vnd.jupyter.widget-view+json": {
       "model_id": "5bee169438d840a9ab650f93adab5cc7",
       "version_major": 2,
       "version_minor": 0
      },
      "text/plain": [
       "0it [00:00, ?it/s]"
      ]
     },
     "metadata": {},
     "output_type": "display_data"
    },
    {
     "data": {
      "application/json": {
       "ascii": false,
       "bar_format": null,
       "colour": null,
       "elapsed": 0.007809162139892578,
       "initial": 0,
       "n": 0,
       "ncols": null,
       "nrows": null,
       "postfix": null,
       "prefix": "",
       "rate": null,
       "total": null,
       "unit": "it",
       "unit_divisor": 1000,
       "unit_scale": false
      },
      "application/vnd.jupyter.widget-view+json": {
       "model_id": "350a0bb78c644550bc4eb2241c09a5ef",
       "version_major": 2,
       "version_minor": 0
      },
      "text/plain": [
       "0it [00:00, ?it/s]"
      ]
     },
     "metadata": {},
     "output_type": "display_data"
    },
    {
     "data": {
      "application/json": {
       "ascii": false,
       "bar_format": null,
       "colour": null,
       "elapsed": 0.012012243270874023,
       "initial": 0,
       "n": 0,
       "ncols": null,
       "nrows": null,
       "postfix": null,
       "prefix": "",
       "rate": null,
       "total": null,
       "unit": "it",
       "unit_divisor": 1000,
       "unit_scale": false
      },
      "application/vnd.jupyter.widget-view+json": {
       "model_id": "c832a2df4c084077b3b4ec66853c0753",
       "version_major": 2,
       "version_minor": 0
      },
      "text/plain": [
       "0it [00:00, ?it/s]"
      ]
     },
     "metadata": {},
     "output_type": "display_data"
    }
   ],
   "source": [
    "for m in tqdm(extmodel.keys()):\n",
    "    for j, ph in tqdm(enumerate(df_train[\"path\"])):\n",
    "        x = load_image(ph)\n",
    "        xb = extmodel[m].predict(x, verbose = 0) # silence output\n",
    "        F = np.mean(xb,axis=(0,1,2))\n",
    "        features[m][j, :] = F"
   ]
  },
  {
   "cell_type": "code",
   "execution_count": 34,
   "id": "bc8e4747-b132-450b-9831-5df1ae7069bc",
   "metadata": {},
   "outputs": [],
   "source": [
    "# save extracted features\n",
    "path_feature= os.path.join(dpath, \"feature.pkl\")\n",
    "f = open(path_feature, \"wb\")\n",
    "pickle.dump(features, f)\n",
    "f.close()"
   ]
  },
  {
   "cell_type": "markdown",
   "id": "2f6087f3-1c24-4602-8d3e-c6fdcabd8bd5",
   "metadata": {},
   "source": [
    "### SVM"
   ]
  },
  {
   "cell_type": "code",
   "execution_count": 41,
   "id": "c9d09473-05ef-40df-a54f-3ffe60cde267",
   "metadata": {},
   "outputs": [],
   "source": [
    "# load data\n",
    "fo = open(path_feature, \"rb\")\n",
    "feats = pickle.load(fo)"
   ]
  },
  {
   "cell_type": "code",
   "execution_count": 44,
   "id": "3c64e065-5c8d-4348-a366-51b7da4516c7",
   "metadata": {},
   "outputs": [
    {
     "data": {
      "text/plain": [
       "(360, 64)"
      ]
     },
     "execution_count": 44,
     "metadata": {},
     "output_type": "execute_result"
    }
   ],
   "source": [
    "feats[\"block1_pool\"].shape"
   ]
  },
  {
   "cell_type": "code",
   "execution_count": 56,
   "id": "d8ac7a88-5bf9-4613-b954-0fb8302a967c",
   "metadata": {},
   "outputs": [
    {
     "data": {
      "text/plain": [
       "(360,)"
      ]
     },
     "execution_count": 56,
     "metadata": {},
     "output_type": "execute_result"
    }
   ],
   "source": [
    "y = df_train[\"label\"].to_numpy()\n",
    "y.shape"
   ]
  },
  {
   "cell_type": "code",
   "execution_count": 57,
   "id": "f5c02a62-8950-43dc-8dfe-998cd20eb610",
   "metadata": {},
   "outputs": [
    {
     "data": {
      "text/plain": [
       "array([2, 2, 2, 2, 2, 2, 2, 2, 2, 2, 2, 2, 2, 2, 2, 2, 2, 2, 2, 2, 2, 2,\n",
       "       2, 2, 2, 2, 2, 2, 2, 2, 2, 2, 2, 2, 2, 2, 2, 2, 2, 2, 2, 2, 2, 2,\n",
       "       2, 2, 2, 2, 2, 2, 2, 2, 2, 2, 2, 2, 2, 2, 2, 2, 2, 2, 2, 2, 2, 2,\n",
       "       2, 2, 2, 2, 2, 2, 2, 2, 2, 2, 2, 2, 2, 2, 2, 2, 2, 2, 2, 2, 2, 2,\n",
       "       2, 2, 2, 2, 2, 2, 2, 2, 2, 2, 2, 2, 0, 0, 0, 0, 0, 0, 0, 0, 0, 0,\n",
       "       0, 0, 0, 0, 0, 0, 0, 0, 0, 0, 0, 0, 0, 0, 0, 0, 0, 0, 0, 0, 0, 0,\n",
       "       0, 0, 0, 0, 0, 0, 0, 0, 0, 0, 0, 0, 0, 0, 0, 0, 0, 0, 0, 0, 0, 0,\n",
       "       0, 0, 0, 0, 0, 0, 0, 0, 0, 0, 0, 0, 0, 0, 0, 0, 0, 0, 0, 0, 0, 0,\n",
       "       0, 0, 0, 0, 0, 0, 0, 0, 0, 0, 0, 0, 0, 0, 0, 0, 0, 0, 0, 0, 0, 0,\n",
       "       0, 0, 1, 1, 1, 1, 1, 1, 1, 1, 1, 1, 1, 1, 1, 1, 1, 1, 1, 1, 1, 1,\n",
       "       1, 1, 1, 1, 1, 1, 1, 1, 1, 1, 1, 1, 1, 1, 1, 1, 1, 1, 1, 1, 1, 1,\n",
       "       1, 1, 1, 1, 1, 1, 1, 1, 1, 1, 1, 1, 1, 1, 1, 1, 1, 1, 1, 1, 1, 1,\n",
       "       1, 1, 1, 1, 1, 1, 1, 1, 1, 1, 1, 1, 1, 1, 1, 1, 1, 1, 1, 1, 1, 1,\n",
       "       1, 1, 1, 1, 1, 1, 1, 1, 1, 1, 1, 1, 1, 1, 3, 3, 3, 3, 3, 3, 3, 3,\n",
       "       3, 3, 3, 3, 3, 3, 3, 3, 3, 3, 3, 3, 3, 3, 3, 3, 3, 3, 3, 3, 3, 3,\n",
       "       3, 3, 3, 3, 3, 3, 3, 3, 3, 3, 3, 3, 3, 3, 3, 3, 3, 3, 3, 3, 3, 3,\n",
       "       3, 3, 3, 3, 3, 3, 3, 3], dtype=object)"
      ]
     },
     "execution_count": 57,
     "metadata": {},
     "output_type": "execute_result"
    }
   ],
   "source": [
    "y"
   ]
  },
  {
   "cell_type": "code",
   "execution_count": 59,
   "id": "4523cdd4-7a53-4744-9335-963a0b7c2fba",
   "metadata": {},
   "outputs": [
    {
     "data": {
      "text/plain": [
       "(360, 64)"
      ]
     },
     "execution_count": 59,
     "metadata": {},
     "output_type": "execute_result"
    }
   ],
   "source": [
    "feats[\"block1_pool\"].shape"
   ]
  },
  {
   "cell_type": "code",
   "execution_count": 53,
   "id": "e9888230-b073-493c-8924-dc680c729f28",
   "metadata": {},
   "outputs": [
    {
     "ename": "ValueError",
     "evalue": "Unknown label type: 'unknown'",
     "output_type": "error",
     "traceback": [
      "\u001b[0;31m---------------------------------------------------------------------------\u001b[0m",
      "\u001b[0;31mValueError\u001b[0m                                Traceback (most recent call last)",
      "Cell \u001b[0;32mIn [53], line 3\u001b[0m\n\u001b[1;32m      1\u001b[0m y \u001b[38;5;241m=\u001b[39m df_train[\u001b[38;5;124m\"\u001b[39m\u001b[38;5;124mlabel\u001b[39m\u001b[38;5;124m\"\u001b[39m]\u001b[38;5;241m.\u001b[39mto_numpy()\n\u001b[1;32m      2\u001b[0m clf \u001b[38;5;241m=\u001b[39m svm\u001b[38;5;241m.\u001b[39mSVC(kernel\u001b[38;5;241m=\u001b[39m\u001b[38;5;124m\"\u001b[39m\u001b[38;5;124mrbf\u001b[39m\u001b[38;5;124m\"\u001b[39m)\n\u001b[0;32m----> 3\u001b[0m \u001b[43mclf\u001b[49m\u001b[38;5;241;43m.\u001b[39;49m\u001b[43mfit\u001b[49m\u001b[43m(\u001b[49m\u001b[43mfeats\u001b[49m\u001b[43m[\u001b[49m\u001b[38;5;124;43m\"\u001b[39;49m\u001b[38;5;124;43mblock1_pool\u001b[39;49m\u001b[38;5;124;43m\"\u001b[39;49m\u001b[43m]\u001b[49m\u001b[43m,\u001b[49m\u001b[43m \u001b[49m\u001b[43my\u001b[49m\u001b[43m)\u001b[49m\n",
      "File \u001b[0;32m~/miniconda/lib/python3.9/site-packages/sklearn/svm/_base.py:182\u001b[0m, in \u001b[0;36mBaseLibSVM.fit\u001b[0;34m(self, X, y, sample_weight)\u001b[0m\n\u001b[1;32m    172\u001b[0m \u001b[38;5;28;01melse\u001b[39;00m:\n\u001b[1;32m    173\u001b[0m     X, y \u001b[38;5;241m=\u001b[39m \u001b[38;5;28mself\u001b[39m\u001b[38;5;241m.\u001b[39m_validate_data(\n\u001b[1;32m    174\u001b[0m         X,\n\u001b[1;32m    175\u001b[0m         y,\n\u001b[0;32m   (...)\u001b[0m\n\u001b[1;32m    179\u001b[0m         accept_large_sparse\u001b[38;5;241m=\u001b[39m\u001b[38;5;28;01mFalse\u001b[39;00m,\n\u001b[1;32m    180\u001b[0m     )\n\u001b[0;32m--> 182\u001b[0m y \u001b[38;5;241m=\u001b[39m \u001b[38;5;28;43mself\u001b[39;49m\u001b[38;5;241;43m.\u001b[39;49m\u001b[43m_validate_targets\u001b[49m\u001b[43m(\u001b[49m\u001b[43my\u001b[49m\u001b[43m)\u001b[49m\n\u001b[1;32m    184\u001b[0m sample_weight \u001b[38;5;241m=\u001b[39m np\u001b[38;5;241m.\u001b[39masarray(\n\u001b[1;32m    185\u001b[0m     [] \u001b[38;5;28;01mif\u001b[39;00m sample_weight \u001b[38;5;129;01mis\u001b[39;00m \u001b[38;5;28;01mNone\u001b[39;00m \u001b[38;5;28;01melse\u001b[39;00m sample_weight, dtype\u001b[38;5;241m=\u001b[39mnp\u001b[38;5;241m.\u001b[39mfloat64\n\u001b[1;32m    186\u001b[0m )\n\u001b[1;32m    187\u001b[0m solver_type \u001b[38;5;241m=\u001b[39m LIBSVM_IMPL\u001b[38;5;241m.\u001b[39mindex(\u001b[38;5;28mself\u001b[39m\u001b[38;5;241m.\u001b[39m_impl)\n",
      "File \u001b[0;32m~/miniconda/lib/python3.9/site-packages/sklearn/svm/_base.py:735\u001b[0m, in \u001b[0;36mBaseSVC._validate_targets\u001b[0;34m(self, y)\u001b[0m\n\u001b[1;32m    733\u001b[0m \u001b[38;5;28;01mdef\u001b[39;00m \u001b[38;5;21m_validate_targets\u001b[39m(\u001b[38;5;28mself\u001b[39m, y):\n\u001b[1;32m    734\u001b[0m     y_ \u001b[38;5;241m=\u001b[39m column_or_1d(y, warn\u001b[38;5;241m=\u001b[39m\u001b[38;5;28;01mTrue\u001b[39;00m)\n\u001b[0;32m--> 735\u001b[0m     \u001b[43mcheck_classification_targets\u001b[49m\u001b[43m(\u001b[49m\u001b[43my\u001b[49m\u001b[43m)\u001b[49m\n\u001b[1;32m    736\u001b[0m     \u001b[38;5;28mcls\u001b[39m, y \u001b[38;5;241m=\u001b[39m np\u001b[38;5;241m.\u001b[39munique(y_, return_inverse\u001b[38;5;241m=\u001b[39m\u001b[38;5;28;01mTrue\u001b[39;00m)\n\u001b[1;32m    737\u001b[0m     \u001b[38;5;28mself\u001b[39m\u001b[38;5;241m.\u001b[39mclass_weight_ \u001b[38;5;241m=\u001b[39m compute_class_weight(\u001b[38;5;28mself\u001b[39m\u001b[38;5;241m.\u001b[39mclass_weight, classes\u001b[38;5;241m=\u001b[39m\u001b[38;5;28mcls\u001b[39m, y\u001b[38;5;241m=\u001b[39my_)\n",
      "File \u001b[0;32m~/miniconda/lib/python3.9/site-packages/sklearn/utils/multiclass.py:200\u001b[0m, in \u001b[0;36mcheck_classification_targets\u001b[0;34m(y)\u001b[0m\n\u001b[1;32m    192\u001b[0m y_type \u001b[38;5;241m=\u001b[39m type_of_target(y, input_name\u001b[38;5;241m=\u001b[39m\u001b[38;5;124m\"\u001b[39m\u001b[38;5;124my\u001b[39m\u001b[38;5;124m\"\u001b[39m)\n\u001b[1;32m    193\u001b[0m \u001b[38;5;28;01mif\u001b[39;00m y_type \u001b[38;5;129;01mnot\u001b[39;00m \u001b[38;5;129;01min\u001b[39;00m [\n\u001b[1;32m    194\u001b[0m     \u001b[38;5;124m\"\u001b[39m\u001b[38;5;124mbinary\u001b[39m\u001b[38;5;124m\"\u001b[39m,\n\u001b[1;32m    195\u001b[0m     \u001b[38;5;124m\"\u001b[39m\u001b[38;5;124mmulticlass\u001b[39m\u001b[38;5;124m\"\u001b[39m,\n\u001b[0;32m   (...)\u001b[0m\n\u001b[1;32m    198\u001b[0m     \u001b[38;5;124m\"\u001b[39m\u001b[38;5;124mmultilabel-sequences\u001b[39m\u001b[38;5;124m\"\u001b[39m,\n\u001b[1;32m    199\u001b[0m ]:\n\u001b[0;32m--> 200\u001b[0m     \u001b[38;5;28;01mraise\u001b[39;00m \u001b[38;5;167;01mValueError\u001b[39;00m(\u001b[38;5;124m\"\u001b[39m\u001b[38;5;124mUnknown label type: \u001b[39m\u001b[38;5;132;01m%r\u001b[39;00m\u001b[38;5;124m\"\u001b[39m \u001b[38;5;241m%\u001b[39m y_type)\n",
      "\u001b[0;31mValueError\u001b[0m: Unknown label type: 'unknown'"
     ]
    }
   ],
   "source": [
    "clf = svm.SVC(kernel=\"rbf\")\n",
    "clf.fit(feats[\"block1_pool\"], y)"
   ]
  },
  {
   "cell_type": "code",
   "execution_count": null,
   "id": "8e128646-d148-4307-825a-5bdc535e11f1",
   "metadata": {},
   "outputs": [],
   "source": []
  }
 ],
 "metadata": {
  "kernelspec": {
   "display_name": "Python 3",
   "language": "python",
   "name": "python3"
  },
  "language_info": {
   "codemirror_mode": {
    "name": "ipython",
    "version": 3
   },
   "file_extension": ".py",
   "mimetype": "text/x-python",
   "name": "python",
   "nbconvert_exporter": "python",
   "pygments_lexer": "ipython3",
   "version": "3.9.12"
  }
 },
 "nbformat": 4,
 "nbformat_minor": 5
}
